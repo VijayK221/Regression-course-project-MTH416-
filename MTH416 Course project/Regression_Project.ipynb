{
 "cells": [
  {
   "cell_type": "code",
   "execution_count": 1,
   "id": "572ce68f",
   "metadata": {},
   "outputs": [],
   "source": [
    "df=read.csv(\"insurance.csv\")"
   ]
  },
  {
   "cell_type": "code",
   "execution_count": 2,
   "id": "b93ba640",
   "metadata": {},
   "outputs": [
    {
     "data": {
      "text/html": [
       "1338"
      ],
      "text/latex": [
       "1338"
      ],
      "text/markdown": [
       "1338"
      ],
      "text/plain": [
       "[1] 1338"
      ]
     },
     "metadata": {},
     "output_type": "display_data"
    },
    {
     "data": {
      "text/html": [
       "7"
      ],
      "text/latex": [
       "7"
      ],
      "text/markdown": [
       "7"
      ],
      "text/plain": [
       "[1] 7"
      ]
     },
     "metadata": {},
     "output_type": "display_data"
    }
   ],
   "source": [
    "nrow(df);ncol(df)"
   ]
  },
  {
   "cell_type": "code",
   "execution_count": 3,
   "id": "cd41f20d",
   "metadata": {},
   "outputs": [
    {
     "data": {
      "text/html": [
       "<table>\n",
       "<thead><tr><th scope=col>age</th><th scope=col>sex</th><th scope=col>bmi</th><th scope=col>children</th><th scope=col>smoker</th><th scope=col>region</th><th scope=col>expenses</th></tr></thead>\n",
       "<tbody>\n",
       "\t<tr><td>19       </td><td>female   </td><td>27.9     </td><td>0        </td><td>yes      </td><td>southwest</td><td>16884.92 </td></tr>\n",
       "\t<tr><td>18       </td><td>male     </td><td>33.8     </td><td>1        </td><td>no       </td><td>southeast</td><td> 1725.55 </td></tr>\n",
       "\t<tr><td>28       </td><td>male     </td><td>33.0     </td><td>3        </td><td>no       </td><td>southeast</td><td> 4449.46 </td></tr>\n",
       "\t<tr><td>33       </td><td>male     </td><td>22.7     </td><td>0        </td><td>no       </td><td>northwest</td><td>21984.47 </td></tr>\n",
       "\t<tr><td>32       </td><td>male     </td><td>28.9     </td><td>0        </td><td>no       </td><td>northwest</td><td> 3866.86 </td></tr>\n",
       "\t<tr><td>31       </td><td>female   </td><td>25.7     </td><td>0        </td><td>no       </td><td>southeast</td><td> 3756.62 </td></tr>\n",
       "</tbody>\n",
       "</table>\n"
      ],
      "text/latex": [
       "\\begin{tabular}{r|lllllll}\n",
       " age & sex & bmi & children & smoker & region & expenses\\\\\n",
       "\\hline\n",
       "\t 19        & female    & 27.9      & 0         & yes       & southwest & 16884.92 \\\\\n",
       "\t 18        & male      & 33.8      & 1         & no        & southeast &  1725.55 \\\\\n",
       "\t 28        & male      & 33.0      & 3         & no        & southeast &  4449.46 \\\\\n",
       "\t 33        & male      & 22.7      & 0         & no        & northwest & 21984.47 \\\\\n",
       "\t 32        & male      & 28.9      & 0         & no        & northwest &  3866.86 \\\\\n",
       "\t 31        & female    & 25.7      & 0         & no        & southeast &  3756.62 \\\\\n",
       "\\end{tabular}\n"
      ],
      "text/markdown": [
       "\n",
       "| age | sex | bmi | children | smoker | region | expenses |\n",
       "|---|---|---|---|---|---|---|\n",
       "| 19        | female    | 27.9      | 0         | yes       | southwest | 16884.92  |\n",
       "| 18        | male      | 33.8      | 1         | no        | southeast |  1725.55  |\n",
       "| 28        | male      | 33.0      | 3         | no        | southeast |  4449.46  |\n",
       "| 33        | male      | 22.7      | 0         | no        | northwest | 21984.47  |\n",
       "| 32        | male      | 28.9      | 0         | no        | northwest |  3866.86  |\n",
       "| 31        | female    | 25.7      | 0         | no        | southeast |  3756.62  |\n",
       "\n"
      ],
      "text/plain": [
       "  age sex    bmi  children smoker region    expenses\n",
       "1 19  female 27.9 0        yes    southwest 16884.92\n",
       "2 18  male   33.8 1        no     southeast  1725.55\n",
       "3 28  male   33.0 3        no     southeast  4449.46\n",
       "4 33  male   22.7 0        no     northwest 21984.47\n",
       "5 32  male   28.9 0        no     northwest  3866.86\n",
       "6 31  female 25.7 0        no     southeast  3756.62"
      ]
     },
     "metadata": {},
     "output_type": "display_data"
    }
   ],
   "source": [
    "head(df)"
   ]
  },
  {
   "cell_type": "code",
   "execution_count": 4,
   "id": "d81c09d1",
   "metadata": {},
   "outputs": [
    {
     "name": "stderr",
     "output_type": "stream",
     "text": [
      "Warning message:\n",
      "\"package 'caret' was built under R version 3.6.3\"Loading required package: lattice\n",
      "Loading required package: ggplot2\n",
      "Registered S3 methods overwritten by 'ggplot2':\n",
      "  method         from \n",
      "  [.quosures     rlang\n",
      "  c.quosures     rlang\n",
      "  print.quosures rlang\n"
     ]
    }
   ],
   "source": [
    "library(caret)  #Classification And REgression Training\n"
   ]
  },
  {
   "cell_type": "code",
   "execution_count": 5,
   "id": "0a871a66",
   "metadata": {},
   "outputs": [],
   "source": [
    "data=read.csv('Insurancefinal .csv')"
   ]
  },
  {
   "cell_type": "code",
   "execution_count": 6,
   "id": "2d481265",
   "metadata": {},
   "outputs": [
    {
     "data": {
      "text/html": [
       "<table>\n",
       "<thead><tr><th scope=col>Age</th><th scope=col>Sex</th><th scope=col>BMI</th><th scope=col>Children</th><th scope=col>Smoker</th><th scope=col>Region</th><th scope=col>Expenses</th><th scope=col>SE</th><th scope=col>NW</th><th scope=col>NE</th></tr></thead>\n",
       "<tbody>\n",
       "\t<tr><td>19      </td><td>0       </td><td>27.9    </td><td>0       </td><td>1       </td><td>0       </td><td>16884.92</td><td>0       </td><td>0       </td><td>0       </td></tr>\n",
       "\t<tr><td>18      </td><td>1       </td><td>33.8    </td><td>1       </td><td>0       </td><td>1       </td><td> 1725.55</td><td>1       </td><td>0       </td><td>0       </td></tr>\n",
       "\t<tr><td>28      </td><td>1       </td><td>33.0    </td><td>3       </td><td>0       </td><td>1       </td><td> 4449.46</td><td>1       </td><td>0       </td><td>0       </td></tr>\n",
       "\t<tr><td>33      </td><td>1       </td><td>22.7    </td><td>0       </td><td>0       </td><td>2       </td><td>21984.47</td><td>0       </td><td>1       </td><td>0       </td></tr>\n",
       "\t<tr><td>32      </td><td>1       </td><td>28.9    </td><td>0       </td><td>0       </td><td>2       </td><td> 3866.86</td><td>0       </td><td>1       </td><td>0       </td></tr>\n",
       "\t<tr><td>31      </td><td>0       </td><td>25.7    </td><td>0       </td><td>0       </td><td>1       </td><td> 3756.62</td><td>1       </td><td>0       </td><td>0       </td></tr>\n",
       "</tbody>\n",
       "</table>\n"
      ],
      "text/latex": [
       "\\begin{tabular}{r|llllllllll}\n",
       " Age & Sex & BMI & Children & Smoker & Region & Expenses & SE & NW & NE\\\\\n",
       "\\hline\n",
       "\t 19       & 0        & 27.9     & 0        & 1        & 0        & 16884.92 & 0        & 0        & 0       \\\\\n",
       "\t 18       & 1        & 33.8     & 1        & 0        & 1        &  1725.55 & 1        & 0        & 0       \\\\\n",
       "\t 28       & 1        & 33.0     & 3        & 0        & 1        &  4449.46 & 1        & 0        & 0       \\\\\n",
       "\t 33       & 1        & 22.7     & 0        & 0        & 2        & 21984.47 & 0        & 1        & 0       \\\\\n",
       "\t 32       & 1        & 28.9     & 0        & 0        & 2        &  3866.86 & 0        & 1        & 0       \\\\\n",
       "\t 31       & 0        & 25.7     & 0        & 0        & 1        &  3756.62 & 1        & 0        & 0       \\\\\n",
       "\\end{tabular}\n"
      ],
      "text/markdown": [
       "\n",
       "| Age | Sex | BMI | Children | Smoker | Region | Expenses | SE | NW | NE |\n",
       "|---|---|---|---|---|---|---|---|---|---|\n",
       "| 19       | 0        | 27.9     | 0        | 1        | 0        | 16884.92 | 0        | 0        | 0        |\n",
       "| 18       | 1        | 33.8     | 1        | 0        | 1        |  1725.55 | 1        | 0        | 0        |\n",
       "| 28       | 1        | 33.0     | 3        | 0        | 1        |  4449.46 | 1        | 0        | 0        |\n",
       "| 33       | 1        | 22.7     | 0        | 0        | 2        | 21984.47 | 0        | 1        | 0        |\n",
       "| 32       | 1        | 28.9     | 0        | 0        | 2        |  3866.86 | 0        | 1        | 0        |\n",
       "| 31       | 0        | 25.7     | 0        | 0        | 1        |  3756.62 | 1        | 0        | 0        |\n",
       "\n"
      ],
      "text/plain": [
       "  Age Sex BMI  Children Smoker Region Expenses SE NW NE\n",
       "1 19  0   27.9 0        1      0      16884.92 0  0  0 \n",
       "2 18  1   33.8 1        0      1       1725.55 1  0  0 \n",
       "3 28  1   33.0 3        0      1       4449.46 1  0  0 \n",
       "4 33  1   22.7 0        0      2      21984.47 0  1  0 \n",
       "5 32  1   28.9 0        0      2       3866.86 0  1  0 \n",
       "6 31  0   25.7 0        0      1       3756.62 1  0  0 "
      ]
     },
     "metadata": {},
     "output_type": "display_data"
    }
   ],
   "source": [
    "head(data)"
   ]
  },
  {
   "cell_type": "code",
   "execution_count": 7,
   "id": "3ee417ae",
   "metadata": {},
   "outputs": [],
   "source": [
    "#install.packages('dplyr')"
   ]
  },
  {
   "cell_type": "code",
   "execution_count": 8,
   "id": "2894a27e",
   "metadata": {},
   "outputs": [
    {
     "name": "stderr",
     "output_type": "stream",
     "text": [
      "Warning message:\n",
      "\"package 'dplyr' was built under R version 3.6.3\"\n",
      "Attaching package: 'dplyr'\n",
      "\n",
      "The following objects are masked from 'package:stats':\n",
      "\n",
      "    filter, lag\n",
      "\n",
      "The following objects are masked from 'package:base':\n",
      "\n",
      "    intersect, setdiff, setequal, union\n",
      "\n"
     ]
    }
   ],
   "source": [
    "library('dplyr')"
   ]
  },
  {
   "cell_type": "code",
   "execution_count": 9,
   "id": "bcb50d9e",
   "metadata": {},
   "outputs": [],
   "source": [
    "finald_dt=select(data, -6)"
   ]
  },
  {
   "cell_type": "code",
   "execution_count": 10,
   "id": "13927e9e",
   "metadata": {},
   "outputs": [
    {
     "data": {
      "text/html": [
       "<table>\n",
       "<thead><tr><th scope=col>Age</th><th scope=col>Sex</th><th scope=col>BMI</th><th scope=col>Children</th><th scope=col>Smoker</th><th scope=col>Expenses</th><th scope=col>SE</th><th scope=col>NW</th><th scope=col>NE</th></tr></thead>\n",
       "<tbody>\n",
       "\t<tr><td>19      </td><td>0       </td><td>27.9    </td><td>0       </td><td>1       </td><td>16884.92</td><td>0       </td><td>0       </td><td>0       </td></tr>\n",
       "\t<tr><td>18      </td><td>1       </td><td>33.8    </td><td>1       </td><td>0       </td><td> 1725.55</td><td>1       </td><td>0       </td><td>0       </td></tr>\n",
       "\t<tr><td>28      </td><td>1       </td><td>33.0    </td><td>3       </td><td>0       </td><td> 4449.46</td><td>1       </td><td>0       </td><td>0       </td></tr>\n",
       "\t<tr><td>33      </td><td>1       </td><td>22.7    </td><td>0       </td><td>0       </td><td>21984.47</td><td>0       </td><td>1       </td><td>0       </td></tr>\n",
       "\t<tr><td>32      </td><td>1       </td><td>28.9    </td><td>0       </td><td>0       </td><td> 3866.86</td><td>0       </td><td>1       </td><td>0       </td></tr>\n",
       "\t<tr><td>31      </td><td>0       </td><td>25.7    </td><td>0       </td><td>0       </td><td> 3756.62</td><td>1       </td><td>0       </td><td>0       </td></tr>\n",
       "</tbody>\n",
       "</table>\n"
      ],
      "text/latex": [
       "\\begin{tabular}{r|lllllllll}\n",
       " Age & Sex & BMI & Children & Smoker & Expenses & SE & NW & NE\\\\\n",
       "\\hline\n",
       "\t 19       & 0        & 27.9     & 0        & 1        & 16884.92 & 0        & 0        & 0       \\\\\n",
       "\t 18       & 1        & 33.8     & 1        & 0        &  1725.55 & 1        & 0        & 0       \\\\\n",
       "\t 28       & 1        & 33.0     & 3        & 0        &  4449.46 & 1        & 0        & 0       \\\\\n",
       "\t 33       & 1        & 22.7     & 0        & 0        & 21984.47 & 0        & 1        & 0       \\\\\n",
       "\t 32       & 1        & 28.9     & 0        & 0        &  3866.86 & 0        & 1        & 0       \\\\\n",
       "\t 31       & 0        & 25.7     & 0        & 0        &  3756.62 & 1        & 0        & 0       \\\\\n",
       "\\end{tabular}\n"
      ],
      "text/markdown": [
       "\n",
       "| Age | Sex | BMI | Children | Smoker | Expenses | SE | NW | NE |\n",
       "|---|---|---|---|---|---|---|---|---|\n",
       "| 19       | 0        | 27.9     | 0        | 1        | 16884.92 | 0        | 0        | 0        |\n",
       "| 18       | 1        | 33.8     | 1        | 0        |  1725.55 | 1        | 0        | 0        |\n",
       "| 28       | 1        | 33.0     | 3        | 0        |  4449.46 | 1        | 0        | 0        |\n",
       "| 33       | 1        | 22.7     | 0        | 0        | 21984.47 | 0        | 1        | 0        |\n",
       "| 32       | 1        | 28.9     | 0        | 0        |  3866.86 | 0        | 1        | 0        |\n",
       "| 31       | 0        | 25.7     | 0        | 0        |  3756.62 | 1        | 0        | 0        |\n",
       "\n"
      ],
      "text/plain": [
       "  Age Sex BMI  Children Smoker Expenses SE NW NE\n",
       "1 19  0   27.9 0        1      16884.92 0  0  0 \n",
       "2 18  1   33.8 1        0       1725.55 1  0  0 \n",
       "3 28  1   33.0 3        0       4449.46 1  0  0 \n",
       "4 33  1   22.7 0        0      21984.47 0  1  0 \n",
       "5 32  1   28.9 0        0       3866.86 0  1  0 \n",
       "6 31  0   25.7 0        0       3756.62 1  0  0 "
      ]
     },
     "metadata": {},
     "output_type": "display_data"
    }
   ],
   "source": [
    "head(finald_dt)"
   ]
  },
  {
   "cell_type": "code",
   "execution_count": 11,
   "id": "55ea20a3",
   "metadata": {},
   "outputs": [
    {
     "data": {
      "text/html": [
       "0"
      ],
      "text/latex": [
       "0"
      ],
      "text/markdown": [
       "0"
      ],
      "text/plain": [
       "[1] 0"
      ]
     },
     "metadata": {},
     "output_type": "display_data"
    }
   ],
   "source": [
    "sum(is.na(finald_dt))  # there is no any missing values.\n"
   ]
  },
  {
   "cell_type": "code",
   "execution_count": 12,
   "id": "c77236e0",
   "metadata": {},
   "outputs": [],
   "source": [
    "#install.packages(\"ggplot2\")"
   ]
  },
  {
   "cell_type": "code",
   "execution_count": 13,
   "id": "dd1d8be5",
   "metadata": {},
   "outputs": [],
   "source": [
    "library(\"ggplot2\")"
   ]
  },
  {
   "cell_type": "code",
   "execution_count": 14,
   "id": "2d1d4a53",
   "metadata": {},
   "outputs": [
    {
     "data": {
      "image/png": "[encoded data removed]",
      "text/plain": [
       "plot without title"
      ]
     },
     "metadata": {},
     "output_type": "display_data"
    }
   ],
   "source": [
    "boxplot(finald_dt,horizontal =TRUE)"
   ]
  },
  {
   "cell_type": "code",
   "execution_count": 15,
   "id": "200c0d8b",
   "metadata": {},
   "outputs": [
    {
     "data": {
      "image/png": "[encoded data removed]",
      "text/plain": [
       "plot without title"
      ]
     },
     "metadata": {},
     "output_type": "display_data"
    }
   ],
   "source": [
    "boxplot(finald_dt$BMI,horizontal =TRUE)"
   ]
  },
  {
   "cell_type": "markdown",
   "id": "eb193c38",
   "metadata": {},
   "source": [
    "we can see outliers are there in BMI"
   ]
  },
  {
   "cell_type": "code",
   "execution_count": 16,
   "id": "091e6c94",
   "metadata": {},
   "outputs": [
    {
     "data": {
      "image/png": "[encoded data removed]",
      "text/plain": [
       "plot without title"
      ]
     },
     "metadata": {},
     "output_type": "display_data"
    }
   ],
   "source": [
    "\n",
    "boxplot(finald_dt$Age,horizontal =TRUE)\n"
   ]
  },
  {
   "cell_type": "code",
   "execution_count": 17,
   "id": "0b6864b2",
   "metadata": {},
   "outputs": [
    {
     "data": {
      "image/png": "[encoded data removed]",
      "text/plain": [
       "plot without title"
      ]
     },
     "metadata": {},
     "output_type": "display_data"
    }
   ],
   "source": [
    "boxplot(finald_dt$Age,horizontal =TRUE)"
   ]
  },
  {
   "cell_type": "code",
   "execution_count": 18,
   "id": "4b6438d1",
   "metadata": {},
   "outputs": [
    {
     "data": {
      "image/png": "[encoded data removed]",
      "text/plain": [
       "plot without title"
      ]
     },
     "metadata": {},
     "output_type": "display_data"
    }
   ],
   "source": [
    "boxplot(finald_dt$Children,horizontal =TRUE)"
   ]
  },
  {
   "cell_type": "code",
   "execution_count": 19,
   "id": "8435e686",
   "metadata": {},
   "outputs": [
    {
     "data": {
      "image/png": "[encoded data removed]",
      "text/plain": [
       "plot without title"
      ]
     },
     "metadata": {},
     "output_type": "display_data"
    }
   ],
   "source": [
    "boxplot(finald_dt$Expenses,horizontal =TRUE)"
   ]
  },
  {
   "cell_type": "markdown",
   "id": "bde815a3",
   "metadata": {},
   "source": [
    "There are outliers in Expenses"
   ]
  },
  {
   "cell_type": "markdown",
   "id": "a2fa523e",
   "metadata": {},
   "source": [
    "# Dealing With Outliers"
   ]
  },
  {
   "cell_type": "code",
   "execution_count": 20,
   "id": "9b705f28",
   "metadata": {},
   "outputs": [
    {
     "data": {
      "image/png": "[encoded data removed]",
      "text/plain": [
       "plot without title"
      ]
     },
     "metadata": {},
     "output_type": "display_data"
    }
   ],
   "source": [
    "plot(finald_dt)"
   ]
  },
  {
   "cell_type": "code",
   "execution_count": 21,
   "id": "1a60a9a0",
   "metadata": {},
   "outputs": [
    {
     "name": "stderr",
     "output_type": "stream",
     "text": [
      "Loading required package: carData\n",
      "Warning message:\n",
      "\"package 'carData' was built under R version 3.6.3\"\n",
      "Attaching package: 'car'\n",
      "\n",
      "The following object is masked from 'package:dplyr':\n",
      "\n",
      "    recode\n",
      "\n"
     ]
    }
   ],
   "source": [
    "#install.packages('car')\n",
    "library(\"car\")"
   ]
  },
  {
   "cell_type": "code",
   "execution_count": 22,
   "id": "1dc2c5db",
   "metadata": {},
   "outputs": [
    {
     "name": "stderr",
     "output_type": "stream",
     "text": [
      "Warning message in plot.window(...):\n",
      "\"\"smoother\" is not a graphical parameter\"Warning message in plot.xy(xy, type, ...):\n",
      "\"\"smoother\" is not a graphical parameter\"Warning message in axis(side = side, at = at, labels = labels, ...):\n",
      "\"\"smoother\" is not a graphical parameter\"Warning message in axis(side = side, at = at, labels = labels, ...):\n",
      "\"\"smoother\" is not a graphical parameter\"Warning message in box(...):\n",
      "\"\"smoother\" is not a graphical parameter\"Warning message in title(...):\n",
      "\"\"smoother\" is not a graphical parameter\""
     ]
    },
    {
     "data": {
      "image/png": "[encoded data removed]",
      "text/plain": [
       "plot without title"
      ]
     },
     "metadata": {},
     "output_type": "display_data"
    }
   ],
   "source": [
    "# Suppress the smoother and frame\n",
    "scatterplot(Expenses ~BMI , data = finald_dt, smoother = TRUE)"
   ]
  },
  {
   "cell_type": "code",
   "execution_count": 23,
   "id": "0237c3c2",
   "metadata": {},
   "outputs": [
    {
     "name": "stdout",
     "output_type": "stream",
     "text": [
      "package 'olsrr' successfully unpacked and MD5 sums checked\n",
      "\n",
      "The downloaded binary packages are in\n",
      "\tC:\\Users\\hp\\AppData\\Local\\Temp\\Rtmps5MNdx\\downloaded_packages\n"
     ]
    }
   ],
   "source": [
    "install.packages(\"olsrr\")"
   ]
  },
  {
   "cell_type": "code",
   "execution_count": 24,
   "id": "9a5ba0b7",
   "metadata": {},
   "outputs": [],
   "source": [
    "y<-finald_dt$Expenses\n",
    "x1<-finald_dt$Age \n",
    "x2<-finald_dt$Sex\n",
    "x3<-finald_dt$BMI\n",
    "x4<-finald_dt$Children\n",
    "x5<-finald_dt$Smoker\n",
    "x6<-finald_dt$SE\n",
    "x7<-finald_dt$NW\n",
    "x8<-finald_dt$NE"
   ]
  },
  {
   "cell_type": "code",
   "execution_count": 25,
   "id": "db3979f3",
   "metadata": {},
   "outputs": [],
   "source": [
    "Initial<-lm(y~x1+x2+x3+x4+x5+x6+x7+x8,data=finald_dt)"
   ]
  },
  {
   "cell_type": "code",
   "execution_count": 26,
   "id": "cc0624ff",
   "metadata": {},
   "outputs": [
    {
     "data": {
      "text/plain": [
       "\n",
       "Call:\n",
       "lm(formula = y ~ x1 + x2 + x3 + x4 + x5 + x6 + x7 + x8, data = finald_dt)\n",
       "\n",
       "Residuals:\n",
       "     Min       1Q   Median       3Q      Max \n",
       "-11302.7  -2850.9   -979.6   1383.9  29981.7 \n",
       "\n",
       "Coefficients:\n",
       "             Estimate Std. Error t value Pr(>|t|)    \n",
       "(Intercept) -12900.87    1020.90 -12.637  < 2e-16 ***\n",
       "x1             256.84      11.90  21.586  < 2e-16 ***\n",
       "x2            -131.35     332.94  -0.395 0.693255    \n",
       "x3             339.29      28.60  11.864  < 2e-16 ***\n",
       "x4             475.69     137.80   3.452 0.000574 ***\n",
       "x5           23847.48     413.14  57.723  < 2e-16 ***\n",
       "x6             -76.29     470.64  -0.162 0.871253    \n",
       "x7             606.52     477.18   1.271 0.203940    \n",
       "x8             959.31     477.91   2.007 0.044921 *  \n",
       "---\n",
       "Signif. codes:  0 '***' 0.001 '**' 0.01 '*' 0.05 '.' 0.1 ' ' 1\n",
       "\n",
       "Residual standard error: 6062 on 1329 degrees of freedom\n",
       "Multiple R-squared:  0.7509,\tAdjusted R-squared:  0.7494 \n",
       "F-statistic: 500.9 on 8 and 1329 DF,  p-value: < 2.2e-16\n"
      ]
     },
     "metadata": {},
     "output_type": "display_data"
    }
   ],
   "source": [
    "summary(Initial)\n"
   ]
  },
  {
   "cell_type": "code",
   "execution_count": 27,
   "id": "7475b920",
   "metadata": {},
   "outputs": [
    {
     "data": {
      "text/html": [
       "<table>\n",
       "<thead><tr><th></th><th scope=col>Df</th><th scope=col>Sum Sq</th><th scope=col>Mean Sq</th><th scope=col>F value</th><th scope=col>Pr(&gt;F)</th></tr></thead>\n",
       "<tbody>\n",
       "\t<tr><th scope=row>x1</th><td>   1        </td><td> 17530192069</td><td> 17530192069</td><td>4.770535e+02</td><td>1.297588e-90</td></tr>\n",
       "\t<tr><th scope=row>x2</th><td>   1        </td><td>   791665676</td><td>   791665676</td><td>2.154379e+01</td><td>3.800324e-06</td></tr>\n",
       "\t<tr><th scope=row>x3</th><td>   1        </td><td>  5271576186</td><td>  5271576186</td><td>1.434567e+02</td><td>1.823347e-31</td></tr>\n",
       "\t<tr><th scope=row>x4</th><td>   1        </td><td>   551481511</td><td>   551481511</td><td>1.500760e+01</td><td>1.122929e-04</td></tr>\n",
       "\t<tr><th scope=row>x5</th><td>   1        </td><td>122859348738</td><td>122859348738</td><td>3.343402e+03</td><td>0.000000e+00</td></tr>\n",
       "\t<tr><th scope=row>x6</th><td>   1        </td><td>    82015298</td><td>    82015298</td><td>2.231903e+00</td><td>1.354247e-01</td></tr>\n",
       "\t<tr><th scope=row>x7</th><td>   1        </td><td>     3374986</td><td>     3374986</td><td>9.184434e-02</td><td>7.618929e-01</td></tr>\n",
       "\t<tr><th scope=row>x8</th><td>   1        </td><td>   148060075</td><td>   148060075</td><td>4.029196e+00</td><td>4.492142e-02</td></tr>\n",
       "\t<tr><th scope=row>Residuals</th><td>1329        </td><td> 48836507128</td><td>    36746807</td><td>          NA</td><td>          NA</td></tr>\n",
       "</tbody>\n",
       "</table>\n"
      ],
      "text/latex": [
       "\\begin{tabular}{r|lllll}\n",
       "  & Df & Sum Sq & Mean Sq & F value & Pr(>F)\\\\\n",
       "\\hline\n",
       "\tx1 &    1         &  17530192069 &  17530192069 & 4.770535e+02 & 1.297588e-90\\\\\n",
       "\tx2 &    1         &    791665676 &    791665676 & 2.154379e+01 & 3.800324e-06\\\\\n",
       "\tx3 &    1         &   5271576186 &   5271576186 & 1.434567e+02 & 1.823347e-31\\\\\n",
       "\tx4 &    1         &    551481511 &    551481511 & 1.500760e+01 & 1.122929e-04\\\\\n",
       "\tx5 &    1         & 122859348738 & 122859348738 & 3.343402e+03 & 0.000000e+00\\\\\n",
       "\tx6 &    1         &     82015298 &     82015298 & 2.231903e+00 & 1.354247e-01\\\\\n",
       "\tx7 &    1         &      3374986 &      3374986 & 9.184434e-02 & 7.618929e-01\\\\\n",
       "\tx8 &    1         &    148060075 &    148060075 & 4.029196e+00 & 4.492142e-02\\\\\n",
       "\tResiduals & 1329         &  48836507128 &     36746807 &           NA &           NA\\\\\n",
       "\\end{tabular}\n"
      ],
      "text/markdown": [
       "\n",
       "| <!--/--> | Df | Sum Sq | Mean Sq | F value | Pr(>F) |\n",
       "|---|---|---|---|---|---|\n",
       "| x1 |    1         |  17530192069 |  17530192069 | 4.770535e+02 | 1.297588e-90 |\n",
       "| x2 |    1         |    791665676 |    791665676 | 2.154379e+01 | 3.800324e-06 |\n",
       "| x3 |    1         |   5271576186 |   5271576186 | 1.434567e+02 | 1.823347e-31 |\n",
       "| x4 |    1         |    551481511 |    551481511 | 1.500760e+01 | 1.122929e-04 |\n",
       "| x5 |    1         | 122859348738 | 122859348738 | 3.343402e+03 | 0.000000e+00 |\n",
       "| x6 |    1         |     82015298 |     82015298 | 2.231903e+00 | 1.354247e-01 |\n",
       "| x7 |    1         |      3374986 |      3374986 | 9.184434e-02 | 7.618929e-01 |\n",
       "| x8 |    1         |    148060075 |    148060075 | 4.029196e+00 | 4.492142e-02 |\n",
       "| Residuals | 1329         |  48836507128 |     36746807 |           NA |           NA |\n",
       "\n"
      ],
      "text/plain": [
       "          Df   Sum Sq       Mean Sq      F value      Pr(>F)      \n",
       "x1           1  17530192069  17530192069 4.770535e+02 1.297588e-90\n",
       "x2           1    791665676    791665676 2.154379e+01 3.800324e-06\n",
       "x3           1   5271576186   5271576186 1.434567e+02 1.823347e-31\n",
       "x4           1    551481511    551481511 1.500760e+01 1.122929e-04\n",
       "x5           1 122859348738 122859348738 3.343402e+03 0.000000e+00\n",
       "x6           1     82015298     82015298 2.231903e+00 1.354247e-01\n",
       "x7           1      3374986      3374986 9.184434e-02 7.618929e-01\n",
       "x8           1    148060075    148060075 4.029196e+00 4.492142e-02\n",
       "Residuals 1329  48836507128     36746807           NA           NA"
      ]
     },
     "metadata": {},
     "output_type": "display_data"
    }
   ],
   "source": [
    "anova(Initial)"
   ]
  },
  {
   "cell_type": "code",
   "execution_count": 28,
   "id": "17eaa1b1",
   "metadata": {},
   "outputs": [
    {
     "data": {
      "text/html": [
       "<table>\n",
       "<thead><tr><th scope=col>x1</th><th scope=col>x2</th><th scope=col>x3</th><th scope=col>x4</th><th scope=col>x5</th><th scope=col>x6</th><th scope=col>x7</th><th scope=col>x8</th></tr></thead>\n",
       "<tbody>\n",
       "\t<tr><td>19  </td><td>0   </td><td>27.9</td><td>0   </td><td>1   </td><td>0   </td><td>0   </td><td>0   </td></tr>\n",
       "\t<tr><td>18  </td><td>1   </td><td>33.8</td><td>1   </td><td>0   </td><td>1   </td><td>0   </td><td>0   </td></tr>\n",
       "\t<tr><td>28  </td><td>1   </td><td>33.0</td><td>3   </td><td>0   </td><td>1   </td><td>0   </td><td>0   </td></tr>\n",
       "\t<tr><td>33  </td><td>1   </td><td>22.7</td><td>0   </td><td>0   </td><td>0   </td><td>1   </td><td>0   </td></tr>\n",
       "\t<tr><td>32  </td><td>1   </td><td>28.9</td><td>0   </td><td>0   </td><td>0   </td><td>1   </td><td>0   </td></tr>\n",
       "\t<tr><td>31  </td><td>0   </td><td>25.7</td><td>0   </td><td>0   </td><td>1   </td><td>0   </td><td>0   </td></tr>\n",
       "\t<tr><td>46  </td><td>0   </td><td>33.4</td><td>1   </td><td>0   </td><td>1   </td><td>0   </td><td>0   </td></tr>\n",
       "\t<tr><td>37  </td><td>0   </td><td>27.7</td><td>3   </td><td>0   </td><td>0   </td><td>1   </td><td>0   </td></tr>\n",
       "\t<tr><td>37  </td><td>1   </td><td>29.8</td><td>2   </td><td>0   </td><td>0   </td><td>0   </td><td>1   </td></tr>\n",
       "\t<tr><td>60  </td><td>0   </td><td>25.8</td><td>0   </td><td>0   </td><td>0   </td><td>1   </td><td>0   </td></tr>\n",
       "\t<tr><td>25  </td><td>1   </td><td>26.2</td><td>0   </td><td>0   </td><td>0   </td><td>0   </td><td>1   </td></tr>\n",
       "\t<tr><td>62  </td><td>0   </td><td>26.3</td><td>0   </td><td>1   </td><td>1   </td><td>0   </td><td>0   </td></tr>\n",
       "\t<tr><td>23  </td><td>1   </td><td>34.4</td><td>0   </td><td>0   </td><td>0   </td><td>0   </td><td>0   </td></tr>\n",
       "\t<tr><td>56  </td><td>0   </td><td>39.8</td><td>0   </td><td>0   </td><td>1   </td><td>0   </td><td>0   </td></tr>\n",
       "\t<tr><td>27  </td><td>1   </td><td>42.1</td><td>0   </td><td>1   </td><td>1   </td><td>0   </td><td>0   </td></tr>\n",
       "\t<tr><td>19  </td><td>1   </td><td>24.6</td><td>1   </td><td>0   </td><td>0   </td><td>0   </td><td>0   </td></tr>\n",
       "\t<tr><td>52  </td><td>0   </td><td>30.8</td><td>1   </td><td>0   </td><td>0   </td><td>0   </td><td>1   </td></tr>\n",
       "\t<tr><td>23  </td><td>1   </td><td>23.8</td><td>0   </td><td>0   </td><td>0   </td><td>0   </td><td>1   </td></tr>\n",
       "\t<tr><td>56  </td><td>1   </td><td>40.3</td><td>0   </td><td>0   </td><td>0   </td><td>0   </td><td>0   </td></tr>\n",
       "\t<tr><td>30  </td><td>1   </td><td>35.3</td><td>0   </td><td>1   </td><td>0   </td><td>0   </td><td>0   </td></tr>\n",
       "\t<tr><td>60  </td><td>0   </td><td>36.0</td><td>0   </td><td>0   </td><td>0   </td><td>0   </td><td>1   </td></tr>\n",
       "\t<tr><td>30  </td><td>0   </td><td>32.4</td><td>1   </td><td>0   </td><td>0   </td><td>0   </td><td>0   </td></tr>\n",
       "\t<tr><td>18  </td><td>1   </td><td>34.1</td><td>0   </td><td>0   </td><td>1   </td><td>0   </td><td>0   </td></tr>\n",
       "\t<tr><td>34  </td><td>0   </td><td>31.9</td><td>1   </td><td>1   </td><td>0   </td><td>0   </td><td>1   </td></tr>\n",
       "\t<tr><td>37  </td><td>1   </td><td>28.0</td><td>2   </td><td>0   </td><td>0   </td><td>1   </td><td>0   </td></tr>\n",
       "\t<tr><td>59  </td><td>0   </td><td>27.7</td><td>3   </td><td>0   </td><td>1   </td><td>0   </td><td>0   </td></tr>\n",
       "\t<tr><td>63  </td><td>0   </td><td>23.1</td><td>0   </td><td>0   </td><td>0   </td><td>0   </td><td>1   </td></tr>\n",
       "\t<tr><td>55  </td><td>0   </td><td>32.8</td><td>2   </td><td>0   </td><td>0   </td><td>1   </td><td>0   </td></tr>\n",
       "\t<tr><td>23  </td><td>1   </td><td>17.4</td><td>1   </td><td>0   </td><td>0   </td><td>1   </td><td>0   </td></tr>\n",
       "\t<tr><td>31  </td><td>1   </td><td>36.3</td><td>2   </td><td>1   </td><td>0   </td><td>0   </td><td>0   </td></tr>\n",
       "\t<tr><td>...</td><td>...</td><td>...</td><td>...</td><td>...</td><td>...</td><td>...</td><td>...</td></tr>\n",
       "\t<tr><td>25  </td><td>0   </td><td>30.2</td><td>0   </td><td>1   </td><td>0   </td><td>0   </td><td>0   </td></tr>\n",
       "\t<tr><td>41  </td><td>1   </td><td>32.2</td><td>2   </td><td>0   </td><td>0   </td><td>0   </td><td>0   </td></tr>\n",
       "\t<tr><td>42  </td><td>1   </td><td>26.3</td><td>1   </td><td>0   </td><td>0   </td><td>1   </td><td>0   </td></tr>\n",
       "\t<tr><td>33  </td><td>0   </td><td>26.7</td><td>0   </td><td>0   </td><td>0   </td><td>1   </td><td>0   </td></tr>\n",
       "\t<tr><td>34  </td><td>1   </td><td>42.9</td><td>1   </td><td>0   </td><td>0   </td><td>0   </td><td>0   </td></tr>\n",
       "\t<tr><td>19  </td><td>0   </td><td>34.7</td><td>2   </td><td>1   </td><td>0   </td><td>0   </td><td>0   </td></tr>\n",
       "\t<tr><td>30  </td><td>0   </td><td>23.7</td><td>3   </td><td>1   </td><td>0   </td><td>1   </td><td>0   </td></tr>\n",
       "\t<tr><td>18  </td><td>1   </td><td>28.3</td><td>1   </td><td>0   </td><td>0   </td><td>0   </td><td>1   </td></tr>\n",
       "\t<tr><td>19  </td><td>0   </td><td>20.6</td><td>0   </td><td>0   </td><td>0   </td><td>0   </td><td>0   </td></tr>\n",
       "\t<tr><td>18  </td><td>1   </td><td>53.1</td><td>0   </td><td>0   </td><td>1   </td><td>0   </td><td>0   </td></tr>\n",
       "\t<tr><td>35  </td><td>1   </td><td>39.7</td><td>4   </td><td>0   </td><td>0   </td><td>0   </td><td>1   </td></tr>\n",
       "\t<tr><td>39  </td><td>0   </td><td>26.3</td><td>2   </td><td>0   </td><td>0   </td><td>1   </td><td>0   </td></tr>\n",
       "\t<tr><td>31  </td><td>1   </td><td>31.1</td><td>3   </td><td>0   </td><td>0   </td><td>1   </td><td>0   </td></tr>\n",
       "\t<tr><td>62  </td><td>1   </td><td>26.7</td><td>0   </td><td>1   </td><td>0   </td><td>0   </td><td>1   </td></tr>\n",
       "\t<tr><td>62  </td><td>1   </td><td>38.8</td><td>0   </td><td>0   </td><td>1   </td><td>0   </td><td>0   </td></tr>\n",
       "\t<tr><td>42  </td><td>0   </td><td>40.4</td><td>2   </td><td>1   </td><td>1   </td><td>0   </td><td>0   </td></tr>\n",
       "\t<tr><td>31  </td><td>1   </td><td>25.9</td><td>1   </td><td>0   </td><td>0   </td><td>1   </td><td>0   </td></tr>\n",
       "\t<tr><td>61  </td><td>1   </td><td>33.5</td><td>0   </td><td>0   </td><td>0   </td><td>0   </td><td>1   </td></tr>\n",
       "\t<tr><td>42  </td><td>0   </td><td>32.9</td><td>0   </td><td>0   </td><td>0   </td><td>0   </td><td>1   </td></tr>\n",
       "\t<tr><td>51  </td><td>1   </td><td>30.0</td><td>1   </td><td>0   </td><td>1   </td><td>0   </td><td>0   </td></tr>\n",
       "\t<tr><td>23  </td><td>0   </td><td>24.2</td><td>2   </td><td>0   </td><td>0   </td><td>0   </td><td>1   </td></tr>\n",
       "\t<tr><td>52  </td><td>1   </td><td>38.6</td><td>2   </td><td>0   </td><td>0   </td><td>0   </td><td>0   </td></tr>\n",
       "\t<tr><td>57  </td><td>0   </td><td>25.7</td><td>2   </td><td>0   </td><td>1   </td><td>0   </td><td>0   </td></tr>\n",
       "\t<tr><td>23  </td><td>0   </td><td>33.4</td><td>0   </td><td>0   </td><td>0   </td><td>0   </td><td>0   </td></tr>\n",
       "\t<tr><td>52  </td><td>0   </td><td>44.7</td><td>3   </td><td>0   </td><td>0   </td><td>0   </td><td>0   </td></tr>\n",
       "\t<tr><td>50  </td><td>1   </td><td>31.0</td><td>3   </td><td>0   </td><td>0   </td><td>1   </td><td>0   </td></tr>\n",
       "\t<tr><td>18  </td><td>0   </td><td>31.9</td><td>0   </td><td>0   </td><td>0   </td><td>0   </td><td>1   </td></tr>\n",
       "\t<tr><td>18  </td><td>0   </td><td>36.9</td><td>0   </td><td>0   </td><td>1   </td><td>0   </td><td>0   </td></tr>\n",
       "\t<tr><td>21  </td><td>0   </td><td>25.8</td><td>0   </td><td>0   </td><td>0   </td><td>0   </td><td>0   </td></tr>\n",
       "\t<tr><td>61  </td><td>0   </td><td>29.1</td><td>0   </td><td>1   </td><td>0   </td><td>1   </td><td>0   </td></tr>\n",
       "</tbody>\n",
       "</table>\n"
      ],
      "text/latex": [
       "\\begin{tabular}{r|llllllll}\n",
       " x1 & x2 & x3 & x4 & x5 & x6 & x7 & x8\\\\\n",
       "\\hline\n",
       "\t 19   & 0    & 27.9 & 0    & 1    & 0    & 0    & 0   \\\\\n",
       "\t 18   & 1    & 33.8 & 1    & 0    & 1    & 0    & 0   \\\\\n",
       "\t 28   & 1    & 33.0 & 3    & 0    & 1    & 0    & 0   \\\\\n",
       "\t 33   & 1    & 22.7 & 0    & 0    & 0    & 1    & 0   \\\\\n",
       "\t 32   & 1    & 28.9 & 0    & 0    & 0    & 1    & 0   \\\\\n",
       "\t 31   & 0    & 25.7 & 0    & 0    & 1    & 0    & 0   \\\\\n",
       "\t 46   & 0    & 33.4 & 1    & 0    & 1    & 0    & 0   \\\\\n",
       "\t 37   & 0    & 27.7 & 3    & 0    & 0    & 1    & 0   \\\\\n",
       "\t 37   & 1    & 29.8 & 2    & 0    & 0    & 0    & 1   \\\\\n",
       "\t 60   & 0    & 25.8 & 0    & 0    & 0    & 1    & 0   \\\\\n",
       "\t 25   & 1    & 26.2 & 0    & 0    & 0    & 0    & 1   \\\\\n",
       "\t 62   & 0    & 26.3 & 0    & 1    & 1    & 0    & 0   \\\\\n",
       "\t 23   & 1    & 34.4 & 0    & 0    & 0    & 0    & 0   \\\\\n",
       "\t 56   & 0    & 39.8 & 0    & 0    & 1    & 0    & 0   \\\\\n",
       "\t 27   & 1    & 42.1 & 0    & 1    & 1    & 0    & 0   \\\\\n",
       "\t 19   & 1    & 24.6 & 1    & 0    & 0    & 0    & 0   \\\\\n",
       "\t 52   & 0    & 30.8 & 1    & 0    & 0    & 0    & 1   \\\\\n",
       "\t 23   & 1    & 23.8 & 0    & 0    & 0    & 0    & 1   \\\\\n",
       "\t 56   & 1    & 40.3 & 0    & 0    & 0    & 0    & 0   \\\\\n",
       "\t 30   & 1    & 35.3 & 0    & 1    & 0    & 0    & 0   \\\\\n",
       "\t 60   & 0    & 36.0 & 0    & 0    & 0    & 0    & 1   \\\\\n",
       "\t 30   & 0    & 32.4 & 1    & 0    & 0    & 0    & 0   \\\\\n",
       "\t 18   & 1    & 34.1 & 0    & 0    & 1    & 0    & 0   \\\\\n",
       "\t 34   & 0    & 31.9 & 1    & 1    & 0    & 0    & 1   \\\\\n",
       "\t 37   & 1    & 28.0 & 2    & 0    & 0    & 1    & 0   \\\\\n",
       "\t 59   & 0    & 27.7 & 3    & 0    & 1    & 0    & 0   \\\\\n",
       "\t 63   & 0    & 23.1 & 0    & 0    & 0    & 0    & 1   \\\\\n",
       "\t 55   & 0    & 32.8 & 2    & 0    & 0    & 1    & 0   \\\\\n",
       "\t 23   & 1    & 17.4 & 1    & 0    & 0    & 1    & 0   \\\\\n",
       "\t 31   & 1    & 36.3 & 2    & 1    & 0    & 0    & 0   \\\\\n",
       "\t ... & ... & ... & ... & ... & ... & ... & ...\\\\\n",
       "\t 25   & 0    & 30.2 & 0    & 1    & 0    & 0    & 0   \\\\\n",
       "\t 41   & 1    & 32.2 & 2    & 0    & 0    & 0    & 0   \\\\\n",
       "\t 42   & 1    & 26.3 & 1    & 0    & 0    & 1    & 0   \\\\\n",
       "\t 33   & 0    & 26.7 & 0    & 0    & 0    & 1    & 0   \\\\\n",
       "\t 34   & 1    & 42.9 & 1    & 0    & 0    & 0    & 0   \\\\\n",
       "\t 19   & 0    & 34.7 & 2    & 1    & 0    & 0    & 0   \\\\\n",
       "\t 30   & 0    & 23.7 & 3    & 1    & 0    & 1    & 0   \\\\\n",
       "\t 18   & 1    & 28.3 & 1    & 0    & 0    & 0    & 1   \\\\\n",
       "\t 19   & 0    & 20.6 & 0    & 0    & 0    & 0    & 0   \\\\\n",
       "\t 18   & 1    & 53.1 & 0    & 0    & 1    & 0    & 0   \\\\\n",
       "\t 35   & 1    & 39.7 & 4    & 0    & 0    & 0    & 1   \\\\\n",
       "\t 39   & 0    & 26.3 & 2    & 0    & 0    & 1    & 0   \\\\\n",
       "\t 31   & 1    & 31.1 & 3    & 0    & 0    & 1    & 0   \\\\\n",
       "\t 62   & 1    & 26.7 & 0    & 1    & 0    & 0    & 1   \\\\\n",
       "\t 62   & 1    & 38.8 & 0    & 0    & 1    & 0    & 0   \\\\\n",
       "\t 42   & 0    & 40.4 & 2    & 1    & 1    & 0    & 0   \\\\\n",
       "\t 31   & 1    & 25.9 & 1    & 0    & 0    & 1    & 0   \\\\\n",
       "\t 61   & 1    & 33.5 & 0    & 0    & 0    & 0    & 1   \\\\\n",
       "\t 42   & 0    & 32.9 & 0    & 0    & 0    & 0    & 1   \\\\\n",
       "\t 51   & 1    & 30.0 & 1    & 0    & 1    & 0    & 0   \\\\\n",
       "\t 23   & 0    & 24.2 & 2    & 0    & 0    & 0    & 1   \\\\\n",
       "\t 52   & 1    & 38.6 & 2    & 0    & 0    & 0    & 0   \\\\\n",
       "\t 57   & 0    & 25.7 & 2    & 0    & 1    & 0    & 0   \\\\\n",
       "\t 23   & 0    & 33.4 & 0    & 0    & 0    & 0    & 0   \\\\\n",
       "\t 52   & 0    & 44.7 & 3    & 0    & 0    & 0    & 0   \\\\\n",
       "\t 50   & 1    & 31.0 & 3    & 0    & 0    & 1    & 0   \\\\\n",
       "\t 18   & 0    & 31.9 & 0    & 0    & 0    & 0    & 1   \\\\\n",
       "\t 18   & 0    & 36.9 & 0    & 0    & 1    & 0    & 0   \\\\\n",
       "\t 21   & 0    & 25.8 & 0    & 0    & 0    & 0    & 0   \\\\\n",
       "\t 61   & 0    & 29.1 & 0    & 1    & 0    & 1    & 0   \\\\\n",
       "\\end{tabular}\n"
      ],
      "text/markdown": [
       "\n",
       "| x1 | x2 | x3 | x4 | x5 | x6 | x7 | x8 |\n",
       "|---|---|---|---|---|---|---|---|\n",
       "| 19   | 0    | 27.9 | 0    | 1    | 0    | 0    | 0    |\n",
       "| 18   | 1    | 33.8 | 1    | 0    | 1    | 0    | 0    |\n",
       "| 28   | 1    | 33.0 | 3    | 0    | 1    | 0    | 0    |\n",
       "| 33   | 1    | 22.7 | 0    | 0    | 0    | 1    | 0    |\n",
       "| 32   | 1    | 28.9 | 0    | 0    | 0    | 1    | 0    |\n",
       "| 31   | 0    | 25.7 | 0    | 0    | 1    | 0    | 0    |\n",
       "| 46   | 0    | 33.4 | 1    | 0    | 1    | 0    | 0    |\n",
       "| 37   | 0    | 27.7 | 3    | 0    | 0    | 1    | 0    |\n",
       "| 37   | 1    | 29.8 | 2    | 0    | 0    | 0    | 1    |\n",
       "| 60   | 0    | 25.8 | 0    | 0    | 0    | 1    | 0    |\n",
       "| 25   | 1    | 26.2 | 0    | 0    | 0    | 0    | 1    |\n",
       "| 62   | 0    | 26.3 | 0    | 1    | 1    | 0    | 0    |\n",
       "| 23   | 1    | 34.4 | 0    | 0    | 0    | 0    | 0    |\n",
       "| 56   | 0    | 39.8 | 0    | 0    | 1    | 0    | 0    |\n",
       "| 27   | 1    | 42.1 | 0    | 1    | 1    | 0    | 0    |\n",
       "| 19   | 1    | 24.6 | 1    | 0    | 0    | 0    | 0    |\n",
       "| 52   | 0    | 30.8 | 1    | 0    | 0    | 0    | 1    |\n",
       "| 23   | 1    | 23.8 | 0    | 0    | 0    | 0    | 1    |\n",
       "| 56   | 1    | 40.3 | 0    | 0    | 0    | 0    | 0    |\n",
       "| 30   | 1    | 35.3 | 0    | 1    | 0    | 0    | 0    |\n",
       "| 60   | 0    | 36.0 | 0    | 0    | 0    | 0    | 1    |\n",
       "| 30   | 0    | 32.4 | 1    | 0    | 0    | 0    | 0    |\n",
       "| 18   | 1    | 34.1 | 0    | 0    | 1    | 0    | 0    |\n",
       "| 34   | 0    | 31.9 | 1    | 1    | 0    | 0    | 1    |\n",
       "| 37   | 1    | 28.0 | 2    | 0    | 0    | 1    | 0    |\n",
       "| 59   | 0    | 27.7 | 3    | 0    | 1    | 0    | 0    |\n",
       "| 63   | 0    | 23.1 | 0    | 0    | 0    | 0    | 1    |\n",
       "| 55   | 0    | 32.8 | 2    | 0    | 0    | 1    | 0    |\n",
       "| 23   | 1    | 17.4 | 1    | 0    | 0    | 1    | 0    |\n",
       "| 31   | 1    | 36.3 | 2    | 1    | 0    | 0    | 0    |\n",
       "| ... | ... | ... | ... | ... | ... | ... | ... |\n",
       "| 25   | 0    | 30.2 | 0    | 1    | 0    | 0    | 0    |\n",
       "| 41   | 1    | 32.2 | 2    | 0    | 0    | 0    | 0    |\n",
       "| 42   | 1    | 26.3 | 1    | 0    | 0    | 1    | 0    |\n",
       "| 33   | 0    | 26.7 | 0    | 0    | 0    | 1    | 0    |\n",
       "| 34   | 1    | 42.9 | 1    | 0    | 0    | 0    | 0    |\n",
       "| 19   | 0    | 34.7 | 2    | 1    | 0    | 0    | 0    |\n",
       "| 30   | 0    | 23.7 | 3    | 1    | 0    | 1    | 0    |\n",
       "| 18   | 1    | 28.3 | 1    | 0    | 0    | 0    | 1    |\n",
       "| 19   | 0    | 20.6 | 0    | 0    | 0    | 0    | 0    |\n",
       "| 18   | 1    | 53.1 | 0    | 0    | 1    | 0    | 0    |\n",
       "| 35   | 1    | 39.7 | 4    | 0    | 0    | 0    | 1    |\n",
       "| 39   | 0    | 26.3 | 2    | 0    | 0    | 1    | 0    |\n",
       "| 31   | 1    | 31.1 | 3    | 0    | 0    | 1    | 0    |\n",
       "| 62   | 1    | 26.7 | 0    | 1    | 0    | 0    | 1    |\n",
       "| 62   | 1    | 38.8 | 0    | 0    | 1    | 0    | 0    |\n",
       "| 42   | 0    | 40.4 | 2    | 1    | 1    | 0    | 0    |\n",
       "| 31   | 1    | 25.9 | 1    | 0    | 0    | 1    | 0    |\n",
       "| 61   | 1    | 33.5 | 0    | 0    | 0    | 0    | 1    |\n",
       "| 42   | 0    | 32.9 | 0    | 0    | 0    | 0    | 1    |\n",
       "| 51   | 1    | 30.0 | 1    | 0    | 1    | 0    | 0    |\n",
       "| 23   | 0    | 24.2 | 2    | 0    | 0    | 0    | 1    |\n",
       "| 52   | 1    | 38.6 | 2    | 0    | 0    | 0    | 0    |\n",
       "| 57   | 0    | 25.7 | 2    | 0    | 1    | 0    | 0    |\n",
       "| 23   | 0    | 33.4 | 0    | 0    | 0    | 0    | 0    |\n",
       "| 52   | 0    | 44.7 | 3    | 0    | 0    | 0    | 0    |\n",
       "| 50   | 1    | 31.0 | 3    | 0    | 0    | 1    | 0    |\n",
       "| 18   | 0    | 31.9 | 0    | 0    | 0    | 0    | 1    |\n",
       "| 18   | 0    | 36.9 | 0    | 0    | 1    | 0    | 0    |\n",
       "| 21   | 0    | 25.8 | 0    | 0    | 0    | 0    | 0    |\n",
       "| 61   | 0    | 29.1 | 0    | 1    | 0    | 1    | 0    |\n",
       "\n"
      ],
      "text/plain": [
       "     x1  x2  x3   x4  x5  x6  x7  x8 \n",
       "1    19  0   27.9 0   1   0   0   0  \n",
       "2    18  1   33.8 1   0   1   0   0  \n",
       "3    28  1   33.0 3   0   1   0   0  \n",
       "4    33  1   22.7 0   0   0   1   0  \n",
       "5    32  1   28.9 0   0   0   1   0  \n",
       "6    31  0   25.7 0   0   1   0   0  \n",
       "7    46  0   33.4 1   0   1   0   0  \n",
       "8    37  0   27.7 3   0   0   1   0  \n",
       "9    37  1   29.8 2   0   0   0   1  \n",
       "10   60  0   25.8 0   0   0   1   0  \n",
       "11   25  1   26.2 0   0   0   0   1  \n",
       "12   62  0   26.3 0   1   1   0   0  \n",
       "13   23  1   34.4 0   0   0   0   0  \n",
       "14   56  0   39.8 0   0   1   0   0  \n",
       "15   27  1   42.1 0   1   1   0   0  \n",
       "16   19  1   24.6 1   0   0   0   0  \n",
       "17   52  0   30.8 1   0   0   0   1  \n",
       "18   23  1   23.8 0   0   0   0   1  \n",
       "19   56  1   40.3 0   0   0   0   0  \n",
       "20   30  1   35.3 0   1   0   0   0  \n",
       "21   60  0   36.0 0   0   0   0   1  \n",
       "22   30  0   32.4 1   0   0   0   0  \n",
       "23   18  1   34.1 0   0   1   0   0  \n",
       "24   34  0   31.9 1   1   0   0   1  \n",
       "25   37  1   28.0 2   0   0   1   0  \n",
       "26   59  0   27.7 3   0   1   0   0  \n",
       "27   63  0   23.1 0   0   0   0   1  \n",
       "28   55  0   32.8 2   0   0   1   0  \n",
       "29   23  1   17.4 1   0   0   1   0  \n",
       "30   31  1   36.3 2   1   0   0   0  \n",
       "...  ... ... ...  ... ... ... ... ...\n",
       "1309 25  0   30.2 0   1   0   0   0  \n",
       "1310 41  1   32.2 2   0   0   0   0  \n",
       "1311 42  1   26.3 1   0   0   1   0  \n",
       "1312 33  0   26.7 0   0   0   1   0  \n",
       "1313 34  1   42.9 1   0   0   0   0  \n",
       "1314 19  0   34.7 2   1   0   0   0  \n",
       "1315 30  0   23.7 3   1   0   1   0  \n",
       "1316 18  1   28.3 1   0   0   0   1  \n",
       "1317 19  0   20.6 0   0   0   0   0  \n",
       "1318 18  1   53.1 0   0   1   0   0  \n",
       "1319 35  1   39.7 4   0   0   0   1  \n",
       "1320 39  0   26.3 2   0   0   1   0  \n",
       "1321 31  1   31.1 3   0   0   1   0  \n",
       "1322 62  1   26.7 0   1   0   0   1  \n",
       "1323 62  1   38.8 0   0   1   0   0  \n",
       "1324 42  0   40.4 2   1   1   0   0  \n",
       "1325 31  1   25.9 1   0   0   1   0  \n",
       "1326 61  1   33.5 0   0   0   0   1  \n",
       "1327 42  0   32.9 0   0   0   0   1  \n",
       "1328 51  1   30.0 1   0   1   0   0  \n",
       "1329 23  0   24.2 2   0   0   0   1  \n",
       "1330 52  1   38.6 2   0   0   0   0  \n",
       "1331 57  0   25.7 2   0   1   0   0  \n",
       "1332 23  0   33.4 0   0   0   0   0  \n",
       "1333 52  0   44.7 3   0   0   0   0  \n",
       "1334 50  1   31.0 3   0   0   1   0  \n",
       "1335 18  0   31.9 0   0   0   0   1  \n",
       "1336 18  0   36.9 0   0   1   0   0  \n",
       "1337 21  0   25.8 0   0   0   0   0  \n",
       "1338 61  0   29.1 0   1   0   1   0  "
      ]
     },
     "metadata": {},
     "output_type": "display_data"
    }
   ],
   "source": [
    "## Forming Correlation matrix\n",
    "\n",
    "x<- cbind(x1,x2,x3,x4,x5,x6,x7,x8)\n",
    "frame <- data.frame(x1,x2,x3,x4,x5,x6,x7,x8)\n",
    "frame"
   ]
  },
  {
   "cell_type": "code",
   "execution_count": 29,
   "id": "c8a1ae50",
   "metadata": {},
   "outputs": [
    {
     "data": {
      "text/html": [
       "<table>\n",
       "<thead><tr><th></th><th scope=col>x1</th><th scope=col>x2</th><th scope=col>x3</th><th scope=col>x4</th><th scope=col>x5</th><th scope=col>x6</th><th scope=col>x7</th><th scope=col>x8</th></tr></thead>\n",
       "<tbody>\n",
       "\t<tr><th scope=row>x1</th><td> 1.0000000000</td><td>-0.020855872 </td><td> 0.109341015 </td><td> 0.04246900  </td><td>-0.025018752 </td><td>-0.01164194  </td><td>-0.0004074234</td><td> 0.002474955 </td></tr>\n",
       "\t<tr><th scope=row>x2</th><td>-0.0208558722</td><td> 1.000000000 </td><td> 0.046380206 </td><td> 0.01716298  </td><td> 0.076184817 </td><td> 0.01711688  </td><td>-0.0111557280</td><td>-0.002425432 </td></tr>\n",
       "\t<tr><th scope=row>x3</th><td> 0.1093410146</td><td> 0.046380206 </td><td> 1.000000000 </td><td> 0.01264471  </td><td> 0.003968054 </td><td> 0.27014413  </td><td>-0.1359923260</td><td>-0.138090834 </td></tr>\n",
       "\t<tr><th scope=row>x4</th><td> 0.0424689986</td><td> 0.017162978 </td><td> 0.012644707 </td><td> 1.00000000  </td><td> 0.007673120 </td><td>-0.02306575  </td><td> 0.0248061293</td><td>-0.022807598 </td></tr>\n",
       "\t<tr><th scope=row>x5</th><td>-0.0250187515</td><td> 0.076184817 </td><td> 0.003968054 </td><td> 0.00767312  </td><td> 1.000000000 </td><td> 0.06849841  </td><td>-0.0369454740</td><td> 0.002811135 </td></tr>\n",
       "\t<tr><th scope=row>x6</th><td>-0.0116419406</td><td> 0.017116875 </td><td> 0.270144127 </td><td>-0.02306575  </td><td> 0.068498410 </td><td> 1.00000000  </td><td>-0.3462646614</td><td>-0.345561015 </td></tr>\n",
       "\t<tr><th scope=row>x7</th><td>-0.0004074234</td><td>-0.011155728 </td><td>-0.135992326 </td><td> 0.02480613  </td><td>-0.036945474 </td><td>-0.34626466  </td><td> 1.0000000000</td><td>-0.320177261 </td></tr>\n",
       "\t<tr><th scope=row>x8</th><td> 0.0024749545</td><td>-0.002425432 </td><td>-0.138090834 </td><td>-0.02280760  </td><td> 0.002811135 </td><td>-0.34556102  </td><td>-0.3201772613</td><td> 1.000000000 </td></tr>\n",
       "</tbody>\n",
       "</table>\n"
      ],
      "text/latex": [
       "\\begin{tabular}{r|llllllll}\n",
       "  & x1 & x2 & x3 & x4 & x5 & x6 & x7 & x8\\\\\n",
       "\\hline\n",
       "\tx1 &  1.0000000000 & -0.020855872  &  0.109341015  &  0.04246900   & -0.025018752  & -0.01164194   & -0.0004074234 &  0.002474955 \\\\\n",
       "\tx2 & -0.0208558722 &  1.000000000  &  0.046380206  &  0.01716298   &  0.076184817  &  0.01711688   & -0.0111557280 & -0.002425432 \\\\\n",
       "\tx3 &  0.1093410146 &  0.046380206  &  1.000000000  &  0.01264471   &  0.003968054  &  0.27014413   & -0.1359923260 & -0.138090834 \\\\\n",
       "\tx4 &  0.0424689986 &  0.017162978  &  0.012644707  &  1.00000000   &  0.007673120  & -0.02306575   &  0.0248061293 & -0.022807598 \\\\\n",
       "\tx5 & -0.0250187515 &  0.076184817  &  0.003968054  &  0.00767312   &  1.000000000  &  0.06849841   & -0.0369454740 &  0.002811135 \\\\\n",
       "\tx6 & -0.0116419406 &  0.017116875  &  0.270144127  & -0.02306575   &  0.068498410  &  1.00000000   & -0.3462646614 & -0.345561015 \\\\\n",
       "\tx7 & -0.0004074234 & -0.011155728  & -0.135992326  &  0.02480613   & -0.036945474  & -0.34626466   &  1.0000000000 & -0.320177261 \\\\\n",
       "\tx8 &  0.0024749545 & -0.002425432  & -0.138090834  & -0.02280760   &  0.002811135  & -0.34556102   & -0.3201772613 &  1.000000000 \\\\\n",
       "\\end{tabular}\n"
      ],
      "text/markdown": [
       "\n",
       "| <!--/--> | x1 | x2 | x3 | x4 | x5 | x6 | x7 | x8 |\n",
       "|---|---|---|---|---|---|---|---|---|\n",
       "| x1 |  1.0000000000 | -0.020855872  |  0.109341015  |  0.04246900   | -0.025018752  | -0.01164194   | -0.0004074234 |  0.002474955  |\n",
       "| x2 | -0.0208558722 |  1.000000000  |  0.046380206  |  0.01716298   |  0.076184817  |  0.01711688   | -0.0111557280 | -0.002425432  |\n",
       "| x3 |  0.1093410146 |  0.046380206  |  1.000000000  |  0.01264471   |  0.003968054  |  0.27014413   | -0.1359923260 | -0.138090834  |\n",
       "| x4 |  0.0424689986 |  0.017162978  |  0.012644707  |  1.00000000   |  0.007673120  | -0.02306575   |  0.0248061293 | -0.022807598  |\n",
       "| x5 | -0.0250187515 |  0.076184817  |  0.003968054  |  0.00767312   |  1.000000000  |  0.06849841   | -0.0369454740 |  0.002811135  |\n",
       "| x6 | -0.0116419406 |  0.017116875  |  0.270144127  | -0.02306575   |  0.068498410  |  1.00000000   | -0.3462646614 | -0.345561015  |\n",
       "| x7 | -0.0004074234 | -0.011155728  | -0.135992326  |  0.02480613   | -0.036945474  | -0.34626466   |  1.0000000000 | -0.320177261  |\n",
       "| x8 |  0.0024749545 | -0.002425432  | -0.138090834  | -0.02280760   |  0.002811135  | -0.34556102   | -0.3201772613 |  1.000000000  |\n",
       "\n"
      ],
      "text/plain": [
       "   x1            x2           x3           x4          x5           x6         \n",
       "x1  1.0000000000 -0.020855872  0.109341015  0.04246900 -0.025018752 -0.01164194\n",
       "x2 -0.0208558722  1.000000000  0.046380206  0.01716298  0.076184817  0.01711688\n",
       "x3  0.1093410146  0.046380206  1.000000000  0.01264471  0.003968054  0.27014413\n",
       "x4  0.0424689986  0.017162978  0.012644707  1.00000000  0.007673120 -0.02306575\n",
       "x5 -0.0250187515  0.076184817  0.003968054  0.00767312  1.000000000  0.06849841\n",
       "x6 -0.0116419406  0.017116875  0.270144127 -0.02306575  0.068498410  1.00000000\n",
       "x7 -0.0004074234 -0.011155728 -0.135992326  0.02480613 -0.036945474 -0.34626466\n",
       "x8  0.0024749545 -0.002425432 -0.138090834 -0.02280760  0.002811135 -0.34556102\n",
       "   x7            x8          \n",
       "x1 -0.0004074234  0.002474955\n",
       "x2 -0.0111557280 -0.002425432\n",
       "x3 -0.1359923260 -0.138090834\n",
       "x4  0.0248061293 -0.022807598\n",
       "x5 -0.0369454740  0.002811135\n",
       "x6 -0.3462646614 -0.345561015\n",
       "x7  1.0000000000 -0.320177261\n",
       "x8 -0.3201772613  1.000000000"
      ]
     },
     "metadata": {},
     "output_type": "display_data"
    }
   ],
   "source": [
    "xx=cor(frame)\n",
    "xx #cor matrix"
   ]
  },
  {
   "cell_type": "code",
   "execution_count": 30,
   "id": "40debc83",
   "metadata": {},
   "outputs": [
    {
     "name": "stdout",
     "output_type": "stream",
     "text": [
      "\n",
      "  There is a binary version available but the source version is later:\n",
      "         binary source needs_compilation\n",
      "corrplot   0.88   0.90             FALSE\n",
      "\n"
     ]
    },
    {
     "name": "stderr",
     "output_type": "stream",
     "text": [
      "installing the source package 'corrplot'\n",
      "\n",
      "corrplot 0.90 loaded\n"
     ]
    },
    {
     "data": {
      "image/png": "[encoded data removed]",
      "text/plain": [
       "Plot with title \"\""
      ]
     },
     "metadata": {},
     "output_type": "display_data"
    }
   ],
   "source": [
    "install.packages(\"corrplot\")\n",
    "library(\"corrplot\")\n",
    "## checking correlation between regressors variables and response variable \n",
    "corrplot(cor(cbind(y,frame)),method=\"number\")"
   ]
  },
  {
   "cell_type": "code",
   "execution_count": 31,
   "id": "8fefed5a",
   "metadata": {},
   "outputs": [
    {
     "data": {
      "text/html": [
       "<dl class=dl-horizontal>\n",
       "\t<dt>x1</dt>\n",
       "\t\t<dd>1.01684294396862</dd>\n",
       "\t<dt>x2</dt>\n",
       "\t\t<dd>1.00889977087405</dd>\n",
       "\t<dt>x3</dt>\n",
       "\t\t<dd>1.10668196898441</dd>\n",
       "\t<dt>x4</dt>\n",
       "\t\t<dd>1.00400759265455</dd>\n",
       "\t<dt>x5</dt>\n",
       "\t\t<dd>1.01206707434363</dd>\n",
       "\t<dt>x6</dt>\n",
       "\t\t<dd>1.59720401189493</dd>\n",
       "\t<dt>x7</dt>\n",
       "\t\t<dd>1.52471678279243</dd>\n",
       "\t<dt>x8</dt>\n",
       "\t\t<dd>1.52617049656051</dd>\n",
       "</dl>\n"
      ],
      "text/latex": [
       "\\begin{description*}\n",
       "\\item[x1] 1.01684294396862\n",
       "\\item[x2] 1.00889977087405\n",
       "\\item[x3] 1.10668196898441\n",
       "\\item[x4] 1.00400759265455\n",
       "\\item[x5] 1.01206707434363\n",
       "\\item[x6] 1.59720401189493\n",
       "\\item[x7] 1.52471678279243\n",
       "\\item[x8] 1.52617049656051\n",
       "\\end{description*}\n"
      ],
      "text/markdown": [
       "x1\n",
       ":   1.01684294396862x2\n",
       ":   1.00889977087405x3\n",
       ":   1.10668196898441x4\n",
       ":   1.00400759265455x5\n",
       ":   1.01206707434363x6\n",
       ":   1.59720401189493x7\n",
       ":   1.52471678279243x8\n",
       ":   1.52617049656051\n",
       "\n"
      ],
      "text/plain": [
       "      x1       x2       x3       x4       x5       x6       x7       x8 \n",
       "1.016843 1.008900 1.106682 1.004008 1.012067 1.597204 1.524717 1.526170 "
      ]
     },
     "metadata": {},
     "output_type": "display_data"
    }
   ],
   "source": [
    "## installing car package for VIF \n",
    "#install.packages(\"car\") \n",
    "library(car)\n",
    "## checking VIF \n",
    "vif(Initial)"
   ]
  },
  {
   "cell_type": "code",
   "execution_count": 32,
   "id": "cb686d0f",
   "metadata": {},
   "outputs": [
    {
     "name": "stdout",
     "output_type": "stream",
     "text": [
      "package 'mctest' successfully unpacked and MD5 sums checked\n",
      "\n",
      "The downloaded binary packages are in\n",
      "\tC:\\Users\\hp\\AppData\\Local\\Temp\\Rtmps5MNdx\\downloaded_packages\n"
     ]
    },
    {
     "name": "stderr",
     "output_type": "stream",
     "text": [
      "Warning message:\n",
      "\"package 'mctest' was built under R version 3.6.3\""
     ]
    },
    {
     "data": {
      "text/plain": [
       "\n",
       "Call:\n",
       "eigprop(mod = Initial)\n",
       "\n",
       "  Eigenvalues      CI (Intercept)     x1     x2     x3     x4     x5     x6\n",
       "1      5.0021  1.0000      0.0010 0.0040 0.0118 0.0013 0.0119 0.0090 0.0055\n",
       "2      1.0143  2.2207      0.0000 0.0001 0.0000 0.0000 0.0036 0.0292 0.2138\n",
       "3      1.0006  2.2358      0.0000 0.0000 0.0000 0.0000 0.0002 0.0000 0.0520\n",
       "4      0.7491  2.5840      0.0003 0.0018 0.0003 0.0005 0.0222 0.9327 0.0230\n",
       "5      0.5153  3.1156      0.0002 0.0006 0.2416 0.0003 0.7421 0.0231 0.0026\n",
       "6      0.4295  3.4127      0.0019 0.0135 0.7009 0.0026 0.1771 0.0000 0.0470\n",
       "7      0.1999  5.0020      0.0053 0.1205 0.0185 0.0107 0.0330 0.0002 0.5727\n",
       "8      0.0727  8.2938      0.0506 0.8217 0.0233 0.1412 0.0052 0.0025 0.0835\n",
       "9      0.0164 17.4427      0.9408 0.0378 0.0034 0.8434 0.0047 0.0032 0.0000\n",
       "      x7     x8\n",
       "1 0.0049 0.0049\n",
       "2 0.2296 0.0042\n",
       "3 0.1002 0.3389\n",
       "4 0.0070 0.0008\n",
       "5 0.0114 0.0032\n",
       "6 0.0537 0.0472\n",
       "7 0.5074 0.5155\n",
       "8 0.0330 0.0320\n",
       "9 0.0528 0.0533\n",
       "\n",
       "===============================\n",
       "Row 8==> x1, proportion 0.821708 >= 0.50 \n",
       "Row 6==> x2, proportion 0.700935 >= 0.50 \n",
       "Row 9==> x3, proportion 0.843394 >= 0.50 \n",
       "Row 5==> x4, proportion 0.742114 >= 0.50 \n",
       "Row 4==> x5, proportion 0.932655 >= 0.50 \n",
       "Row 7==> x6, proportion 0.572679 >= 0.50 \n",
       "Row 7==> x7, proportion 0.507411 >= 0.50 \n",
       "Row 7==> x8, proportion 0.515473 >= 0.50 "
      ]
     },
     "metadata": {},
     "output_type": "display_data"
    }
   ],
   "source": [
    "## installing mctest package for variance decomposition proportion\n",
    "install.packages(\"mctest\")\n",
    "library(mctest)\n",
    "eigprop(Initial)\n",
    "#since maximum condition index is 17.4427 which is > 15 but there are no such \n",
    "#corresponding subset of regressors which are > 0.5\n",
    "#hence our model is free from multicollinearity"
   ]
  },
  {
   "cell_type": "code",
   "execution_count": 33,
   "id": "b1e28522",
   "metadata": {},
   "outputs": [
    {
     "name": "stdout",
     "output_type": "stream",
     "text": [
      "package 'moments' successfully unpacked and MD5 sums checked\n",
      "\n",
      "The downloaded binary packages are in\n",
      "\tC:\\Users\\hp\\AppData\\Local\\Temp\\Rtmps5MNdx\\downloaded_packages\n"
     ]
    },
    {
     "data": {
      "text/html": [
       "0.0556100830725991"
      ],
      "text/latex": [
       "0.0556100830725991"
      ],
      "text/markdown": [
       "0.0556100830725991"
      ],
      "text/plain": [
       "[1] 0.05561008"
      ]
     },
     "metadata": {},
     "output_type": "display_data"
    },
    {
     "data": {
      "text/html": [
       "-0.0209279020013669"
      ],
      "text/latex": [
       "-0.0209279020013669"
      ],
      "text/markdown": [
       "-0.0209279020013669"
      ],
      "text/plain": [
       "[1] -0.0209279"
      ]
     },
     "metadata": {},
     "output_type": "display_data"
    },
    {
     "data": {
      "text/html": [
       "0.284273810356021"
      ],
      "text/latex": [
       "0.284273810356021"
      ],
      "text/markdown": [
       "0.284273810356021"
      ],
      "text/plain": [
       "[1] 0.2842738"
      ]
     },
     "metadata": {},
     "output_type": "display_data"
    },
    {
     "data": {
      "text/html": [
       "0.937328116387442"
      ],
      "text/latex": [
       "0.937328116387442"
      ],
      "text/markdown": [
       "0.937328116387442"
      ],
      "text/plain": [
       "[1] 0.9373281"
      ]
     },
     "metadata": {},
     "output_type": "display_data"
    },
    {
     "data": {
      "text/html": [
       "1.46312353402732"
      ],
      "text/latex": [
       "1.46312353402732"
      ],
      "text/markdown": [
       "1.46312353402732"
      ],
      "text/plain": [
       "[1] 1.463124"
      ]
     },
     "metadata": {},
     "output_type": "display_data"
    },
    {
     "data": {
      "text/html": [
       "1.02447098947101"
      ],
      "text/latex": [
       "1.02447098947101"
      ],
      "text/markdown": [
       "1.02447098947101"
      ],
      "text/plain": [
       "[1] 1.024471"
      ]
     },
     "metadata": {},
     "output_type": "display_data"
    },
    {
     "data": {
      "text/html": [
       "1.19906309135978"
      ],
      "text/latex": [
       "1.19906309135978"
      ],
      "text/markdown": [
       "1.19906309135978"
      ],
      "text/plain": [
       "[1] 1.199063"
      ]
     },
     "metadata": {},
     "output_type": "display_data"
    },
    {
     "data": {
      "text/html": [
       "1.20380906162421"
      ],
      "text/latex": [
       "1.20380906162421"
      ],
      "text/markdown": [
       "1.20380906162421"
      ],
      "text/plain": [
       "[1] 1.203809"
      ]
     },
     "metadata": {},
     "output_type": "display_data"
    }
   ],
   "source": [
    "## Checking skewness of regressors \n",
    "install.packages(\"moments\")\n",
    "library(moments)\n",
    "skewness(x1) \n",
    "skewness(x2)\n",
    "skewness(x3)\n",
    "skewness(x4)\n",
    "skewness(x5)\n",
    "skewness(x6)\n",
    "skewness(x7)\n",
    "skewness(x8)\n",
    "##values of skewness fall between ??? 3 and + 3\n",
    "# of all regressor which is indication of acceptable skewness\n",
    "#hence we need not to check outliers "
   ]
  },
  {
   "cell_type": "code",
   "execution_count": 34,
   "id": "e6a70365",
   "metadata": {},
   "outputs": [
    {
     "name": "stdout",
     "output_type": "stream",
     "text": [
      "package 'lmtest' successfully unpacked and MD5 sums checked\n",
      "\n",
      "The downloaded binary packages are in\n",
      "\tC:\\Users\\hp\\AppData\\Local\\Temp\\Rtmps5MNdx\\downloaded_packages\n"
     ]
    },
    {
     "name": "stderr",
     "output_type": "stream",
     "text": [
      "Warning message:\n",
      "\"package 'lmtest' was built under R version 3.6.3\"Loading required package: zoo\n",
      "\n",
      "Attaching package: 'zoo'\n",
      "\n",
      "The following objects are masked from 'package:base':\n",
      "\n",
      "    as.Date, as.Date.numeric\n",
      "\n"
     ]
    }
   ],
   "source": [
    "## Graphs for checking heteroscedasticity \n",
    "install.packages(\"lmtest\")\n",
    "library(lmtest)\n",
    "res <- residuals(Initial) \n"
   ]
  },
  {
   "cell_type": "code",
   "execution_count": 35,
   "id": "3dda5c72",
   "metadata": {},
   "outputs": [
    {
     "data": {
      "text/html": [
       "8.06233020628118e-18"
      ],
      "text/latex": [
       "8.06233020628118e-18"
      ],
      "text/markdown": [
       "8.06233020628118e-18"
      ],
      "text/plain": [
       "[1] 8.06233e-18"
      ]
     },
     "metadata": {},
     "output_type": "display_data"
    },
    {
     "data": {
      "text/html": [
       "2.32788045607869e-13"
      ],
      "text/latex": [
       "2.32788045607869e-13"
      ],
      "text/markdown": [
       "2.32788045607869e-13"
      ],
      "text/plain": [
       "[1] 2.32788e-13"
      ]
     },
     "metadata": {},
     "output_type": "display_data"
    },
    {
     "data": {
      "image/png": "[encoded data removed]",
      "text/plain": [
       "plot without title"
      ]
     },
     "metadata": {},
     "output_type": "display_data"
    }
   ],
   "source": [
    "y_hat <- fitted(Initial)\n",
    "cor(y_hat,res) # cor()= 0.0000000000000000846319= 8.46319e-17 almost zero (approx.)\n",
    "               # Hence, our assumption on homoscedastic error holds true.\n",
    "plot(res,y_hat,las=1)\n",
    "mean(res)"
   ]
  },
  {
   "cell_type": "code",
   "execution_count": 36,
   "id": "d74c32bb",
   "metadata": {},
   "outputs": [
    {
     "data": {
      "image/png": "[encoded data removed]",
      "text/plain": [
       "plot without title"
      ]
     },
     "metadata": {},
     "output_type": "display_data"
    },
    {
     "data": {
      "image/png": "[encoded data removed]",
      "text/plain": [
       "plot without title"
      ]
     },
     "metadata": {},
     "output_type": "display_data"
    },
    {
     "data": {
      "image/png": "[encoded data removed]",
      "text/plain": [
       "plot without title"
      ]
     },
     "metadata": {},
     "output_type": "display_data"
    },
    {
     "data": {
      "image/png": "[encoded data removed]",
      "text/plain": [
       "plot without title"
      ]
     },
     "metadata": {},
     "output_type": "display_data"
    },
    {
     "data": {
      "image/png": "[encoded data removed]",
      "text/plain": [
       "plot without title"
      ]
     },
     "metadata": {},
     "output_type": "display_data"
    },
    {
     "data": {
      "image/png": "[encoded data removed]",
      "text/plain": [
       "plot without title"
      ]
     },
     "metadata": {},
     "output_type": "display_data"
    },
    {
     "data": {
      "image/png": "[encoded data removed]",
      "text/plain": [
       "plot without title"
      ]
     },
     "metadata": {},
     "output_type": "display_data"
    },
    {
     "data": {
      "image/png": "[encoded data removed]",
      "text/plain": [
       "plot without title"
      ]
     },
     "metadata": {},
     "output_type": "display_data"
    }
   ],
   "source": [
    "#res vs predictors graph of residuals against independent variables \n",
    "plot(x1,res,las=0)\n",
    "plot(x2,res,las=0)\n",
    "plot(x3,res)#The plot is close to a outward opening funnel\n",
    "plot(x4,res,las=0)\n",
    "plot(x5,res,las=0)\n",
    "plot(x6,res,las=0)\n",
    "plot(x7,res,las=0)\n",
    "plot(x8,res,las=0)"
   ]
  },
  {
   "cell_type": "markdown",
   "id": "8158e6c0",
   "metadata": {},
   "source": [
    "#which suggests the following relationship:\n",
    "#Var(ei) ??? ??2BMIi\n",
    "#To ensure our usual error assumptions, we need to account for this and make changes to our model.\n",
    "#The way we can accomodate such a relationship is by dividing the model on both sides by the BMI\n",
    "#regressor. So, our new model is "
   ]
  },
  {
   "cell_type": "code",
   "execution_count": 38,
   "id": "4d5ada89",
   "metadata": {},
   "outputs": [
    {
     "data": {
      "text/plain": [
       "\n",
       "\tstudentized Breusch-Pagan test\n",
       "\n",
       "data:  Initial\n",
       "BP = 121.59, df = 8, p-value < 2.2e-16\n"
      ]
     },
     "metadata": {},
     "output_type": "display_data"
    }
   ],
   "source": [
    "#Breusch-Pagan Test for heteroscedasticity \n",
    "bptest(Initial)"
   ]
  },
  {
   "cell_type": "code",
   "execution_count": 39,
   "id": "123fe332",
   "metadata": {},
   "outputs": [
    {
     "data": {
      "text/plain": [
       "\n",
       "Call:\n",
       "lm(formula = y ~ x1 + x2 + x3 + x4 + x5 + x6 + x7 + x8)\n",
       "\n",
       "Residuals:\n",
       "     Min       1Q   Median       3Q      Max \n",
       "-11302.7  -2850.9   -979.6   1383.9  29981.7 \n",
       "\n",
       "Coefficients:\n",
       "             Estimate Std. Error t value Pr(>|t|)    \n",
       "(Intercept) -12900.87    1020.90 -12.637  < 2e-16 ***\n",
       "x1             256.84      11.90  21.586  < 2e-16 ***\n",
       "x2            -131.35     332.94  -0.395 0.693255    \n",
       "x3             339.29      28.60  11.864  < 2e-16 ***\n",
       "x4             475.69     137.80   3.452 0.000574 ***\n",
       "x5           23847.48     413.14  57.723  < 2e-16 ***\n",
       "x6             -76.29     470.64  -0.162 0.871253    \n",
       "x7             606.52     477.18   1.271 0.203940    \n",
       "x8             959.31     477.91   2.007 0.044921 *  \n",
       "---\n",
       "Signif. codes:  0 '***' 0.001 '**' 0.01 '*' 0.05 '.' 0.1 ' ' 1\n",
       "\n",
       "Residual standard error: 6062 on 1329 degrees of freedom\n",
       "Multiple R-squared:  0.7509,\tAdjusted R-squared:  0.7494 \n",
       "F-statistic: 500.9 on 8 and 1329 DF,  p-value: < 2.2e-16\n"
      ]
     },
     "metadata": {},
     "output_type": "display_data"
    }
   ],
   "source": [
    "fitt<-lm(y~x1+x2+x3+x4+x5+x6+x7+x8)# model before applying weight=1/[BMI(j)] \n",
    "summary(fitt)"
   ]
  },
  {
   "cell_type": "code",
   "execution_count": 40,
   "id": "a49ca54c",
   "metadata": {},
   "outputs": [
    {
     "data": {
      "text/plain": [
       "\n",
       "Call:\n",
       "lm(formula = y ~ x1 + x2 + x3 + x4 + x5 + x6 + x7 + x8, weights = 1/x3)\n",
       "\n",
       "Weighted Residuals:\n",
       "    Min      1Q  Median      3Q     Max \n",
       "-2243.0  -552.6  -249.4   215.7  5684.3 \n",
       "\n",
       "Coefficients:\n",
       "             Estimate Std. Error t value Pr(>|t|)    \n",
       "(Intercept) -12650.31     987.28 -12.813  < 2e-16 ***\n",
       "x1             254.65      11.85  21.498  < 2e-16 ***\n",
       "x2             -42.33     329.62  -0.128  0.89783    \n",
       "x3             347.37      28.63  12.131  < 2e-16 ***\n",
       "x4             430.07     136.41   3.153  0.00165 ** \n",
       "x5           21986.30     408.99  53.757  < 2e-16 ***\n",
       "x6             -61.07     475.34  -0.128  0.89780    \n",
       "x7             608.71     468.12   1.300  0.19372    \n",
       "x8             830.90     468.28   1.774  0.07623 .  \n",
       "---\n",
       "Signif. codes:  0 '***' 0.001 '**' 0.01 '*' 0.05 '.' 0.1 ' ' 1\n",
       "\n",
       "Residual standard error: 1107 on 1329 degrees of freedom\n",
       "Multiple R-squared:  0.7292,\tAdjusted R-squared:  0.7275 \n",
       "F-statistic: 447.2 on 8 and 1329 DF,  p-value: < 2.2e-16\n"
      ]
     },
     "metadata": {},
     "output_type": "display_data"
    },
    {
     "data": {
      "text/plain": [
       "\n",
       "\tstudentized Breusch-Pagan test\n",
       "\n",
       "data:  fitt11\n",
       "BP = 121.59, df = 8, p-value < 2.2e-16\n"
      ]
     },
     "metadata": {},
     "output_type": "display_data"
    }
   ],
   "source": [
    "#model after applying weights\n",
    "fitt11<- lm(y~x1 + x2 + x3 + x4 + x5+x6+x7+x8,weights=1/x3)\n",
    "summary(fitt11)\n",
    "bptest(fitt11)"
   ]
  },
  {
   "cell_type": "code",
   "execution_count": 41,
   "id": "8dd61118",
   "metadata": {},
   "outputs": [
    {
     "data": {
      "text/plain": [
       "\n",
       "Call:\n",
       "lm(formula = log(y) ~ x1 + x2 + x3 + x4 + x5 + x6 + x7 + x8)\n",
       "\n",
       "Residuals:\n",
       "     Min       1Q   Median       3Q      Max \n",
       "-1.07125 -0.19783 -0.04891  0.06604  2.16655 \n",
       "\n",
       "Coefficients:\n",
       "              Estimate Std. Error t value Pr(>|t|)    \n",
       "(Intercept)  6.9018812  0.0748241  92.241  < 2e-16 ***\n",
       "x1           0.0345816  0.0008721  39.654  < 2e-16 ***\n",
       "x2          -0.0754109  0.0244017  -3.090 0.002040 ** \n",
       "x3           0.0133658  0.0020960   6.377 2.49e-10 ***\n",
       "x4           0.1018651  0.0100997  10.086  < 2e-16 ***\n",
       "x5           1.5542783  0.0302800  51.330  < 2e-16 ***\n",
       "x6          -0.0282606  0.0344943  -0.819 0.412772    \n",
       "x7           0.0651242  0.0349740   1.862 0.062813 .  \n",
       "x8           0.1289048  0.0350274   3.680 0.000242 ***\n",
       "---\n",
       "Signif. codes:  0 '***' 0.001 '**' 0.01 '*' 0.05 '.' 0.1 ' ' 1\n",
       "\n",
       "Residual standard error: 0.4443 on 1329 degrees of freedom\n",
       "Multiple R-squared:  0.7679,\tAdjusted R-squared:  0.7665 \n",
       "F-statistic: 549.7 on 8 and 1329 DF,  p-value: < 2.2e-16\n"
      ]
     },
     "metadata": {},
     "output_type": "display_data"
    },
    {
     "data": {
      "text/plain": [
       "\n",
       "\tstudentized Breusch-Pagan test\n",
       "\n",
       "data:  fitt2\n",
       "BP = 77.071, df = 8, p-value = 1.897e-13\n"
      ]
     },
     "metadata": {},
     "output_type": "display_data"
    }
   ],
   "source": [
    "#log transformation in expenses\n",
    "fitt2<-lm(log(y)~x1+x2+x3+x4+x5+x6+x7+x8)\n",
    "summary(fitt2)\n",
    "bptest(fitt2)"
   ]
  },
  {
   "cell_type": "code",
   "execution_count": 42,
   "id": "b5ce203e",
   "metadata": {},
   "outputs": [
    {
     "name": "stderr",
     "output_type": "stream",
     "text": [
      "\n",
      "Attaching package: 'MASS'\n",
      "\n",
      "The following object is masked from 'package:dplyr':\n",
      "\n",
      "    select\n",
      "\n"
     ]
    },
    {
     "data": {
      "text/html": [
       "0.141414141414141"
      ],
      "text/latex": [
       "0.141414141414141"
      ],
      "text/markdown": [
       "0.141414141414141"
      ],
      "text/plain": [
       "[1] 0.1414141"
      ]
     },
     "metadata": {},
     "output_type": "display_data"
    },
    {
     "data": {
      "image/png": "[encoded data removed]",
      "text/plain": [
       "plot without title"
      ]
     },
     "metadata": {},
     "output_type": "display_data"
    }
   ],
   "source": [
    "# box-cox transformation\n",
    "library(MASS)\n",
    "bc=boxcox(fitt)\n",
    "(lambda=bc$x[which.max(bc$y)])"
   ]
  },
  {
   "cell_type": "code",
   "execution_count": 43,
   "id": "8cc379d1",
   "metadata": {},
   "outputs": [],
   "source": [
    "#lamda=0.1414141\n",
    "fitt3=lm(((y^lambda-1)/lambda)~x1+x2+x3+x4+x5+x5+x7+x8)"
   ]
  },
  {
   "cell_type": "code",
   "execution_count": 44,
   "id": "bec4dd75",
   "metadata": {},
   "outputs": [
    {
     "data": {
      "text/html": [
       "4.46616495860945e-17"
      ],
      "text/latex": [
       "4.46616495860945e-17"
      ],
      "text/markdown": [
       "4.46616495860945e-17"
      ],
      "text/plain": [
       "[1] 4.466165e-17"
      ]
     },
     "metadata": {},
     "output_type": "display_data"
    },
    {
     "data": {
      "text/plain": [
       "\n",
       "Call:\n",
       "lm(formula = ((y^lambda - 1)/lambda) ~ x1 + x2 + x3 + x4 + x5 + \n",
       "    x5 + x7 + x8)\n",
       "\n",
       "Residuals:\n",
       "    Min      1Q  Median      3Q     Max \n",
       "-3.4737 -0.7648 -0.2334  0.1854  7.7836 \n",
       "\n",
       "Coefficients:\n",
       "            Estimate Std. Error t value Pr(>|t|)    \n",
       "(Intercept) 10.81127    0.26555  40.713  < 2e-16 ***\n",
       "x1           0.11845    0.00311  38.084  < 2e-16 ***\n",
       "x2          -0.23090    0.08707  -2.652   0.0081 ** \n",
       "x3           0.05421    0.00737   7.356 3.31e-13 ***\n",
       "x4           0.32820    0.03602   9.112  < 2e-16 ***\n",
       "x5           5.89236    0.10782  54.652  < 2e-16 ***\n",
       "x7           0.26663    0.10883   2.450   0.0144 *  \n",
       "x8           0.48193    0.10889   4.426 1.04e-05 ***\n",
       "---\n",
       "Signif. codes:  0 '***' 0.001 '**' 0.01 '*' 0.05 '.' 0.1 ' ' 1\n",
       "\n",
       "Residual standard error: 1.585 on 1330 degrees of freedom\n",
       "Multiple R-squared:  0.7761,\tAdjusted R-squared:  0.7749 \n",
       "F-statistic: 658.6 on 7 and 1330 DF,  p-value: < 2.2e-16\n"
      ]
     },
     "metadata": {},
     "output_type": "display_data"
    }
   ],
   "source": [
    "library(lmtest)\n",
    "residual_<- residuals(fitt3) \n",
    "y_hat_new<- fitted(fitt3)\n",
    "cor(y_hat_new,residual_)\n",
    "summary(fitt3)"
   ]
  },
  {
   "cell_type": "code",
   "execution_count": 45,
   "id": "67d07be4",
   "metadata": {},
   "outputs": [
    {
     "data": {
      "text/plain": [
       "\n",
       "\tstudentized Breusch-Pagan test\n",
       "\n",
       "data:  fitt3\n",
       "BP = 54.061, df = 7, p-value = 2.287e-09\n"
      ]
     },
     "metadata": {},
     "output_type": "display_data"
    },
    {
     "data": {
      "text/plain": [
       "\n",
       "\tShapiro-Wilk normality test\n",
       "\n",
       "data:  residual_\n",
       "W = 0.81548, p-value < 2.2e-16\n"
      ]
     },
     "metadata": {},
     "output_type": "display_data"
    }
   ],
   "source": [
    "bptest(fitt3)\n",
    "shapiro.test(residual_)"
   ]
  },
  {
   "cell_type": "code",
   "execution_count": 46,
   "id": "cbdfc111",
   "metadata": {},
   "outputs": [
    {
     "name": "stdout",
     "output_type": "stream",
     "text": [
      "Start:  AIC=23316.34\n",
      "y ~ x1 + x2 + x3 + x4 + x5 + x6 + x7 + x8\n",
      "\n",
      "       Df  Sum of Sq        RSS   AIC\n",
      "- x6    1 9.6556e+05 4.8837e+10 23314\n",
      "- x2    1 5.7197e+06 4.8842e+10 23315\n",
      "- x7    1 5.9365e+07 4.8896e+10 23316\n",
      "<none>               4.8837e+10 23316\n",
      "- x8    1 1.4806e+08 4.8985e+10 23318\n",
      "- x4    1 4.3789e+08 4.9274e+10 23326\n",
      "- x3    1 5.1723e+09 5.4009e+10 23449\n",
      "- x1    1 1.7122e+10 6.5958e+10 23717\n",
      "- x5    1 1.2244e+11 1.7127e+11 24993\n",
      "\n",
      "Step:  AIC=23314.37\n",
      "y ~ x1 + x2 + x3 + x4 + x5 + x7 + x8\n",
      "\n",
      "       Df  Sum of Sq        RSS   AIC\n",
      "- x2    1 5.7200e+06 4.8843e+10 23313\n",
      "<none>               4.8837e+10 23314\n",
      "- x7    1 8.8108e+07 4.8926e+10 23315\n",
      "+ x6    1 9.6556e+05 4.8837e+10 23316\n",
      "- x8    1 2.1080e+08 4.9048e+10 23318\n",
      "- x4    1 4.3949e+08 4.9277e+10 23324\n",
      "- x3    1 5.3016e+09 5.4139e+10 23450\n",
      "- x1    1 1.7145e+10 6.5982e+10 23715\n",
      "- x5    1 1.2290e+11 1.7174e+11 24995\n",
      "\n",
      "Step:  AIC=23312.53\n",
      "y ~ x1 + x3 + x4 + x5 + x7 + x8\n",
      "\n",
      "       Df  Sum of Sq        RSS   AIC\n",
      "<none>               4.8843e+10 23313\n",
      "- x7    1 8.8139e+07 4.8931e+10 23313\n",
      "+ x2    1 5.7200e+06 4.8837e+10 23314\n",
      "+ x6    1 9.6588e+05 4.8842e+10 23315\n",
      "- x8    1 2.1052e+08 4.9054e+10 23316\n",
      "- x4    1 4.3789e+08 4.9281e+10 23323\n",
      "- x3    1 5.2970e+09 5.4140e+10 23448\n",
      "- x1    1 1.7171e+10 6.6014e+10 23714\n",
      "- x5    1 1.2347e+11 1.7232e+11 24997\n"
     ]
    },
    {
     "data": {
      "text/plain": [
       "\n",
       "Call:\n",
       "lm(formula = y ~ x1 + x3 + x4 + x5 + x7 + x8)\n",
       "\n",
       "Coefficients:\n",
       "(Intercept)           x1           x3           x4           x5           x7  \n",
       "   -12969.0        257.0        338.0        475.4      23830.9        644.5  \n",
       "         x8  \n",
       "      996.7  \n"
      ]
     },
     "metadata": {},
     "output_type": "display_data"
    }
   ],
   "source": [
    "#variable selection\n",
    "library(MASS)\n",
    "step(fitt,direction=\"both\")\n",
    "## Variable Selection\tAkaike Information criteria corrected"
   ]
  },
  {
   "cell_type": "code",
   "execution_count": 56,
   "id": "1e0779ac",
   "metadata": {},
   "outputs": [],
   "source": [
    "#install.packages(\"AICcmodavg\") \n",
    "#library(AICcmodavg)\n",
    "#AICc(fitt)\n",
    "\n",
    "## AICc=27115.59\n"
   ]
  },
  {
   "cell_type": "code",
   "execution_count": 50,
   "id": "f18b05ea",
   "metadata": {},
   "outputs": [
    {
     "data": {
      "text/plain": [
       "\n",
       "Call:\n",
       "lm(formula = y ~ x1 + x3 + x4 + x5 + x7 + x8, data = finald_dt)\n",
       "\n",
       "Residuals:\n",
       "   Min     1Q Median     3Q    Max \n",
       "-11331  -2833  -1001   1379  29891 \n",
       "\n",
       "Coefficients:\n",
       "             Estimate Std. Error t value Pr(>|t|)    \n",
       "(Intercept) -12969.02    1006.47 -12.886  < 2e-16 ***\n",
       "x1             257.01      11.88  21.632  < 2e-16 ***\n",
       "x3             337.97      28.13  12.014  < 2e-16 ***\n",
       "x4             475.41     137.63   3.454 0.000569 ***\n",
       "x5           23830.93     410.83  58.006  < 2e-16 ***\n",
       "x7             644.48     415.85   1.550 0.121432    \n",
       "x8             996.66     416.12   2.395 0.016751 *  \n",
       "---\n",
       "Signif. codes:  0 '***' 0.001 '**' 0.01 '*' 0.05 '.' 0.1 ' ' 1\n",
       "\n",
       "Residual standard error: 6058 on 1331 degrees of freedom\n",
       "Multiple R-squared:  0.7509,\tAdjusted R-squared:  0.7498 \n",
       "F-statistic: 668.7 on 6 and 1331 DF,  p-value: < 2.2e-16\n"
      ]
     },
     "metadata": {},
     "output_type": "display_data"
    },
    {
     "data": {
      "text/plain": [
       "\n",
       "\tstudentized Breusch-Pagan test\n",
       "\n",
       "data:  final_model\n",
       "BP = 119.72, df = 6, p-value < 2.2e-16\n"
      ]
     },
     "metadata": {},
     "output_type": "display_data"
    }
   ],
   "source": [
    "#final model after variable selection\n",
    "final_model=lm(formula = y ~ x1 + x3 + x4 + x5 + x7 + x8,data=finald_dt)\n",
    "summary(final_model)\n",
    "bptest(final_model)"
   ]
  },
  {
   "cell_type": "code",
   "execution_count": 51,
   "id": "797196fc",
   "metadata": {},
   "outputs": [
    {
     "data": {
      "text/html": [
       "36499631.6351461"
      ],
      "text/latex": [
       "36499631.6351461"
      ],
      "text/markdown": [
       "36499631.6351461"
      ],
      "text/plain": [
       "[1] 36499632"
      ]
     },
     "metadata": {},
     "output_type": "display_data"
    }
   ],
   "source": [
    "##Calculation of MSE \n",
    "mean(fitt$residuals^2)\n"
   ]
  },
  {
   "cell_type": "code",
   "execution_count": 52,
   "id": "3a0662e2",
   "metadata": {},
   "outputs": [
    {
     "data": {
      "text/html": [
       "0.866561288199423"
      ],
      "text/latex": [
       "0.866561288199423"
      ],
      "text/markdown": [
       "0.866561288199423"
      ],
      "text/plain": [
       "[1] 0.8665613"
      ]
     },
     "metadata": {},
     "output_type": "display_data"
    },
    {
     "data": {
      "image/png": "[encoded data removed]",
      "text/plain": [
       "Plot with title \"graph between y and y_hat\""
      ]
     },
     "metadata": {},
     "output_type": "display_data"
    }
   ],
   "source": [
    "## prediction of data \n",
    "cor(y,y_hat) \n",
    "plot(y,y_hat, xlab=\"y\", ylab=\"y_hat\", main=\"graph between y and y_hat\")\n",
    "## Graph between observed and fitted values"
   ]
  },
  {
   "cell_type": "code",
   "execution_count": 53,
   "id": "c3889b70",
   "metadata": {},
   "outputs": [
    {
     "data": {
      "image/png": "[encoded data removed]",
      "text/plain": [
       "Plot with title \"graph between y and y_hat\""
      ]
     },
     "metadata": {},
     "output_type": "display_data"
    }
   ],
   "source": [
    "## Graph between observed and fitted values\n",
    "\n",
    "plot(y,y_hat, type=\"l\", lwd=5, xlab=\"y\", ylab=\"y_hat\", main=\"graph between y and y_hat\")\n",
    "\n",
    "lines(y, y_hat, col=\"red\", lwd=2)\n",
    "\n",
    "lines(y, y_hat, type=\"b\", col=\"purple\",pch=19)"
   ]
  },
  {
   "cell_type": "code",
   "execution_count": 54,
   "id": "66ea0fe2",
   "metadata": {},
   "outputs": [
    {
     "data": {
      "text/html": [
       "1.34620564735058e-17"
      ],
      "text/latex": [
       "1.34620564735058e-17"
      ],
      "text/markdown": [
       "1.34620564735058e-17"
      ],
      "text/plain": [
       "[1] 1.346206e-17"
      ]
     },
     "metadata": {},
     "output_type": "display_data"
    }
   ],
   "source": [
    "#final model after variable selection \n",
    "#\n",
    "final_model=lm(formula = y ~ x1 + x3 + x4 + x5 + x7 + x8,data=finald_dt)\n",
    "\n",
    "library(lmtest)\n",
    "residual<- residuals(final_model) \n",
    "y_hatfinal <- fitted(final_model)\n",
    "cor(y_hatfinal,residual)\n"
   ]
  },
  {
   "cell_type": "code",
   "execution_count": 55,
   "id": "7b690b07",
   "metadata": {},
   "outputs": [
    {
     "data": {
      "image/png": "[encoded data removed]",
      "text/plain": [
       "Plot with title \"Normal Q-Q Plot\""
      ]
     },
     "metadata": {},
     "output_type": "display_data"
    },
    {
     "data": {
      "image/png": "[encoded data removed]",
      "text/plain": [
       "Plot with title \"graph between y and y_hat1\""
      ]
     },
     "metadata": {},
     "output_type": "display_data"
    },
    {
     "data": {
      "image/png": "[encoded data removed]",
      "text/plain": [
       "Plot with title \"graph between y and y_hat1\""
      ]
     },
     "metadata": {},
     "output_type": "display_data"
    }
   ],
   "source": [
    "\n",
    "#define plotting area\n",
    "op <- par(pty = \"s\", mfrow = c(1, 2))\n",
    "\n",
    "#Q-Q plot for original model\n",
    "qqnorm(fitt$residuals)\n",
    "qqline(fitt$residuals)\n",
    "\n",
    "#Q-Q plot for Box-Cox transformed model\n",
    "qqnorm(fitt3$residuals)\n",
    "qqline(fitt3$residuals)\n",
    "\n",
    "#display both Q-Q plots\n",
    "par(op)\n",
    "\n",
    "y_hat1 <- fitted(final_model)\n",
    "plot(y,y_hat1,lwd=2, xlab=\"y\", ylab=\"y_hat1\", main=\"graph between y and y_hat1\")\n",
    "## Graph between observed and fitted values\n",
    "\n",
    "plot(y,y_hat1, type=\"l\", col=\"red\", lwd=5, xlab=\"y\", ylab=\"y_hat1\", main=\"graph between y and y_hat1\")\n",
    "\n",
    "lines(y, y_hat1, col=\"purple\", lwd=2)\n",
    "\n",
    "lines(y, y_hat, xlab=\"y\", ylab=\"y_hat1\", main=\"graph between y and y_hat1\", lwd=2, pch=19)\n",
    "\n",
    "\n",
    "\n"
   ]
  },
  {
   "cell_type": "markdown",
   "id": "a0ca1e20",
   "metadata": {},
   "source": [
    "# CONCLUSION:\n",
    "after transformation data:  Residual standard error: 1.589 on 1331 degrees of freedom\n",
    "#Multiple R-squared:  0.7749,\tAdjusted R-squared:  0.7739 \n",
    "#F-statistic: 763.7 on 6 and 1331 DF,  p-value: < 2.2e-16\n",
    "#new_model\n",
    "             \n",
    "#BP = 55.176, df = 6, p-value = 4.271e-10    Shapiro-Wilk normality test\n",
    "                                                          #data:  residual\n",
    "                                                         #W = 0.89911, p-value < 2.2e-16"
   ]
  },
  {
   "cell_type": "code",
   "execution_count": null,
   "id": "49b7f3e9",
   "metadata": {},
   "outputs": [],
   "source": []
  }
 ],
 "metadata": {
  "kernelspec": {
   "display_name": "R",
   "language": "R",
   "name": "ir"
  },
  "language_info": {
   "codemirror_mode": "r",
   "file_extension": ".r",
   "mimetype": "text/x-r-source",
   "name": "R",
   "pygments_lexer": "r",
   "version": "3.6.1"
  }
 },
 "nbformat": 4,
 "nbformat_minor": 5
}
